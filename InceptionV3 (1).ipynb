{
  "nbformat": 4,
  "nbformat_minor": 0,
  "metadata": {
    "colab": {
      "provenance": [],
      "gpuType": "T4"
    },
    "kernelspec": {
      "name": "python3",
      "display_name": "Python 3"
    },
    "language_info": {
      "name": "python"
    },
    "accelerator": "GPU"
  },
  "cells": [
    {
      "cell_type": "code",
      "execution_count": null,
      "metadata": {
        "id": "va-mcsTkAwZy"
      },
      "outputs": [],
      "source": [
        "import tensorflow as tf\n",
        "import numpy as np\n",
        "import os\n",
        "from tensorflow.keras.preprocessing.image import ImageDataGenerator"
      ]
    },
    {
      "cell_type": "code",
      "source": [
        "from google.colab import drive\n",
        "drive.mount('/content/drive')"
      ],
      "metadata": {
        "colab": {
          "base_uri": "https://localhost:8080/"
        },
        "id": "hZ0B45jgA0X5",
        "outputId": "6210b0f6-20ff-45d0-a6c2-fa0307f3b131"
      },
      "execution_count": null,
      "outputs": [
        {
          "output_type": "stream",
          "name": "stdout",
          "text": [
            "Drive already mounted at /content/drive; to attempt to forcibly remount, call drive.mount(\"/content/drive\", force_remount=True).\n"
          ]
        }
      ]
    },
    {
      "cell_type": "code",
      "source": [
        "base_dir=r\"/content/drive/MyDrive/Black_samples\"\n",
        "os.listdir(base_dir)"
      ],
      "metadata": {
        "colab": {
          "base_uri": "https://localhost:8080/"
        },
        "id": "U1TTOrAeA2k1",
        "outputId": "03a6002f-5edd-4158-8302-f50d219e0e1f"
      },
      "execution_count": null,
      "outputs": [
        {
          "output_type": "execute_result",
          "data": {
            "text/plain": [
              "['Day_1', 'day_2', 'Day_3']"
            ]
          },
          "metadata": {},
          "execution_count": 9
        }
      ]
    },
    {
      "cell_type": "code",
      "source": [
        "import os\n",
        "import cv2\n",
        "import numpy as np\n",
        "from sklearn.model_selection import train_test_split\n",
        "from sklearn.metrics import accuracy_score"
      ],
      "metadata": {
        "id": "FhB1aDtfBB-r"
      },
      "execution_count": null,
      "outputs": []
    },
    {
      "cell_type": "code",
      "source": [
        "def load_dataset(directory):\n",
        "    images = []\n",
        "    labels = []\n",
        "\n",
        "    for day_folder in os.listdir(directory):\n",
        "        day_path = os.path.join(directory, day_folder)\n",
        "\n",
        "        if os.path.isdir(day_path):\n",
        "            for filename in os.listdir(day_path):\n",
        "                if filename.endswith(\".jpg\") or filename.endswith(\".png\"):\n",
        "                    image_path = os.path.join(day_path, filename)\n",
        "                    label = int(day_folder[-1])  # Extract day number from folder name\n",
        "\n",
        "                    # Read and preprocess the image\n",
        "                    img = cv2.imread(image_path)\n",
        "                    img = cv2.resize(img, (100, 100))\n",
        "\n",
        "                    images.append(img/255)  # Flatten the image array\n",
        "                    # print(img.shape, transformed_img.shape)\n",
        "                    labels.append(label)\n",
        "\n",
        "    return np.array(images), np.array(labels)\n",
        "\n",
        "# Load the dataset from the specified directory\n",
        "dataset_directory = '/content/drive/MyDrive/Black_samples'\n",
        "images, labels = load_dataset(dataset_directory)"
      ],
      "metadata": {
        "id": "ODnIaxqWBLCP"
      },
      "execution_count": null,
      "outputs": []
    },
    {
      "cell_type": "code",
      "source": [
        "labels = labels - 1\n",
        "labels\n"
      ],
      "metadata": {
        "colab": {
          "base_uri": "https://localhost:8080/"
        },
        "id": "Y7awfhyHBMzw",
        "outputId": "d7b84114-bfc2-48fa-efc8-b12ff7386e97"
      },
      "execution_count": null,
      "outputs": [
        {
          "output_type": "execute_result",
          "data": {
            "text/plain": [
              "array([0, 0, 0, 0, 0, 0, 0, 0, 0, 0, 0, 0, 0, 0, 0, 0, 0, 0, 0, 0, 0, 0,\n",
              "       0, 0, 0, 0, 0, 0, 0, 0, 0, 0, 0, 0, 0, 0, 0, 0, 0, 0, 0, 0, 0, 0,\n",
              "       0, 0, 0, 0, 0, 0, 0, 0, 0, 0, 0, 0, 0, 0, 0, 0, 0, 0, 0, 0, 0, 0,\n",
              "       0, 0, 0, 0, 0, 0, 0, 0, 0, 0, 0, 0, 0, 0, 0, 0, 0, 0, 0, 0, 0, 0,\n",
              "       0, 0, 0, 0, 0, 0, 0, 0, 0, 0, 0, 0, 0, 0, 0, 0, 0, 0, 0, 0, 0, 0,\n",
              "       0, 0, 0, 0, 0, 0, 0, 0, 0, 0, 0, 0, 0, 0, 0, 1, 1, 1, 1, 1, 1, 1,\n",
              "       1, 1, 1, 1, 1, 1, 1, 1, 1, 1, 1, 1, 1, 1, 1, 1, 1, 1, 1, 1, 1, 1,\n",
              "       1, 1, 1, 1, 1, 1, 1, 1, 1, 1, 1, 1, 1, 1, 1, 1, 1, 1, 1, 1, 1, 1,\n",
              "       1, 1, 1, 1, 1, 1, 1, 1, 1, 1, 1, 1, 1, 1, 1, 1, 1, 1, 1, 1, 1, 2,\n",
              "       2, 2, 2, 2, 2, 2, 2, 2, 2, 2, 2, 2, 2, 2, 2, 2, 2, 2, 2, 2, 2, 2,\n",
              "       2, 2, 2, 2, 2, 2, 2, 2, 2, 2, 2, 2, 2, 2, 2, 2, 2, 2, 2, 2, 2, 2,\n",
              "       2, 2, 2, 2, 2, 2, 2, 2, 2, 2, 2, 2, 2, 2, 2, 2, 2, 2, 2, 2, 2, 2,\n",
              "       2, 2, 2, 2, 2, 2, 2, 2, 2, 2, 2, 2, 2, 2, 2, 2, 2, 2, 2, 2, 2, 2,\n",
              "       2, 2, 2, 2, 2, 2, 2, 2, 2, 2, 2, 2, 2, 2, 2, 2, 2, 2, 2, 2, 2, 2,\n",
              "       2, 2, 2, 2, 2, 2, 2, 2, 2, 2])"
            ]
          },
          "metadata": {},
          "execution_count": 12
        }
      ]
    },
    {
      "cell_type": "code",
      "source": [
        "train_images, test_images, train_labels, test_labels = train_test_split(images, labels, test_size=0.2, random_state=42)\n",
        "eval_images, test_images, eval_labels, test_labels = train_test_split(test_images, test_labels, test_size=0.5, random_state=42)"
      ],
      "metadata": {
        "id": "DxinMTSvBT1Q"
      },
      "execution_count": null,
      "outputs": []
    },
    {
      "cell_type": "code",
      "source": [
        "len(train_images)"
      ],
      "metadata": {
        "colab": {
          "base_uri": "https://localhost:8080/"
        },
        "id": "ZF1cHTjaBdJx",
        "outputId": "78c85d12-ff60-4bb4-cf64-9bbe3e75e613"
      },
      "execution_count": null,
      "outputs": [
        {
          "output_type": "execute_result",
          "data": {
            "text/plain": [
              "254"
            ]
          },
          "metadata": {},
          "execution_count": 8
        }
      ]
    },
    {
      "cell_type": "code",
      "source": [
        "data_gen = ImageDataGenerator(\n",
        "    rotation_range=20,\n",
        "    width_shift_range=0.2,\n",
        "    height_shift_range=0.2,\n",
        "    shear_range=0.2,\n",
        "    zoom_range=0.2,\n",
        "    horizontal_flip=True,\n",
        "    fill_mode='nearest'\n",
        ")\n",
        "\n",
        "\n",
        "data_gen.fit(train_images)\n",
        "\n",
        "train_generator = data_gen.flow(\n",
        "    train_images,\n",
        "    train_labels,\n",
        "    batch_size=8\n",
        ")"
      ],
      "metadata": {
        "id": "c3sfHGq8Besz"
      },
      "execution_count": null,
      "outputs": []
    },
    {
      "cell_type": "code",
      "source": [
        "import tensorflow as tf\n",
        "from tensorflow.keras.models import Sequential\n",
        "from tensorflow.keras.layers import Conv2D, Flatten, Dense, MaxPool2D, Dropout\n",
        "from keras.applications import InceptionV3\n",
        "\n",
        "base_model = InceptionV3(weights='imagenet', include_top=False, input_shape=(100, 100, 3))\n",
        "base_model.trainable = False\n",
        "model = Sequential([\n",
        "    base_model,\n",
        "    Flatten(),\n",
        "    Dense(512, activation=tf.keras.layers.ReLU()),\n",
        "    Dense(3, activation='softmax')\n",
        "])\n",
        "\n",
        "# Compile the model\n",
        "model.compile(optimizer=tf.keras.optimizers.Adam(learning_rate=0.001), loss='sparse_categorical_crossentropy', metrics=['accuracy'])\n",
        "\n",
        "# Model summary\n",
        "model.summary()\n"
      ],
      "metadata": {
        "colab": {
          "base_uri": "https://localhost:8080/"
        },
        "id": "LJjayw2yBgUi",
        "outputId": "30744957-ad6d-4da6-bb53-d5aaff23f3b7"
      },
      "execution_count": null,
      "outputs": [
        {
          "output_type": "stream",
          "name": "stdout",
          "text": [
            "Model: \"sequential_1\"\n",
            "_________________________________________________________________\n",
            " Layer (type)                Output Shape              Param #   \n",
            "=================================================================\n",
            " inception_v3 (Functional)   (None, 1, 1, 2048)        21802784  \n",
            "                                                                 \n",
            " flatten_1 (Flatten)         (None, 2048)              0         \n",
            "                                                                 \n",
            " dense_2 (Dense)             (None, 512)               1049088   \n",
            "                                                                 \n",
            " dense_3 (Dense)             (None, 3)                 1539      \n",
            "                                                                 \n",
            "=================================================================\n",
            "Total params: 22853411 (87.18 MB)\n",
            "Trainable params: 1050627 (4.01 MB)\n",
            "Non-trainable params: 21802784 (83.17 MB)\n",
            "_________________________________________________________________\n"
          ]
        }
      ]
    },
    {
      "cell_type": "code",
      "source": [
        "for it in train_generator:\n",
        "    print(it[0].shape)\n",
        "    op = model(it[0])\n",
        "    print(op.shape)\n",
        "    break"
      ],
      "metadata": {
        "colab": {
          "base_uri": "https://localhost:8080/"
        },
        "id": "eO8h3DuNBkEs",
        "outputId": "494f4602-3198-4718-be4c-a88b00db12f5"
      },
      "execution_count": null,
      "outputs": [
        {
          "output_type": "stream",
          "name": "stdout",
          "text": [
            "(8, 100, 100, 3)\n",
            "(8, 3)\n"
          ]
        }
      ]
    },
    {
      "cell_type": "code",
      "source": [
        "callback = tf.keras.callbacks.ModelCheckpoint('./drive/MyDrive/inceptionv3', monitor = 'loss', save_best_only = True, verbose = 1)"
      ],
      "metadata": {
        "id": "UUzSL0TUBn3H"
      },
      "execution_count": null,
      "outputs": []
    },
    {
      "cell_type": "code",
      "source": [
        "epochs = 90\n",
        "\n",
        "# Fit the model\n",
        "history = model.fit(\n",
        "    train_generator,\n",
        "    epochs=epochs,\n",
        "    validation_data=(eval_images, eval_labels),\n",
        "    callbacks=[callback]\n",
        ")"
      ],
      "metadata": {
        "colab": {
          "base_uri": "https://localhost:8080/"
        },
        "id": "3ahR2whiBsz5",
        "outputId": "36840976-66d0-4dbf-ae1c-26cbe1fba17b"
      },
      "execution_count": null,
      "outputs": [
        {
          "output_type": "stream",
          "name": "stdout",
          "text": [
            "Epoch 1/90\n",
            "32/32 [==============================] - ETA: 0s - loss: 2.3790 - accuracy: 0.4803\n",
            "Epoch 1: loss improved from inf to 2.37900, saving model to ./drive/MyDrive/inceptionv3\n",
            "32/32 [==============================] - 35s 956ms/step - loss: 2.3790 - accuracy: 0.4803 - val_loss: 1.7565 - val_accuracy: 0.7500\n",
            "Epoch 2/90\n",
            "31/32 [============================>.] - ETA: 0s - loss: 0.7751 - accuracy: 0.7236\n",
            "Epoch 2: loss improved from 2.37900 to 0.76927, saving model to ./drive/MyDrive/inceptionv3\n",
            "32/32 [==============================] - 29s 938ms/step - loss: 0.7693 - accuracy: 0.7244 - val_loss: 0.6127 - val_accuracy: 0.7812\n",
            "Epoch 3/90\n",
            "32/32 [==============================] - ETA: 0s - loss: 0.5499 - accuracy: 0.8031\n",
            "Epoch 3: loss improved from 0.76927 to 0.54986, saving model to ./drive/MyDrive/inceptionv3\n",
            "32/32 [==============================] - 28s 912ms/step - loss: 0.5499 - accuracy: 0.8031 - val_loss: 0.4699 - val_accuracy: 0.7500\n",
            "Epoch 4/90\n",
            "31/32 [============================>.] - ETA: 0s - loss: 0.6419 - accuracy: 0.7683\n",
            "Epoch 4: loss did not improve from 0.54986\n",
            "32/32 [==============================] - 1s 37ms/step - loss: 0.6430 - accuracy: 0.7717 - val_loss: 0.4021 - val_accuracy: 0.8438\n",
            "Epoch 5/90\n",
            "31/32 [============================>.] - ETA: 0s - loss: 0.5704 - accuracy: 0.7846\n",
            "Epoch 5: loss did not improve from 0.54986\n",
            "32/32 [==============================] - 2s 49ms/step - loss: 0.5664 - accuracy: 0.7874 - val_loss: 0.5261 - val_accuracy: 0.7812\n",
            "Epoch 6/90\n",
            "31/32 [============================>.] - ETA: 0s - loss: 0.5024 - accuracy: 0.7927\n",
            "Epoch 6: loss improved from 0.54986 to 0.52119, saving model to ./drive/MyDrive/inceptionv3\n",
            "32/32 [==============================] - 29s 928ms/step - loss: 0.5212 - accuracy: 0.7835 - val_loss: 0.7440 - val_accuracy: 0.7812\n",
            "Epoch 7/90\n",
            "31/32 [============================>.] - ETA: 0s - loss: 0.5602 - accuracy: 0.7724\n",
            "Epoch 7: loss did not improve from 0.52119\n",
            "32/32 [==============================] - 1s 30ms/step - loss: 0.5680 - accuracy: 0.7677 - val_loss: 0.4693 - val_accuracy: 0.8438\n",
            "Epoch 8/90\n",
            "32/32 [==============================] - ETA: 0s - loss: 0.5903 - accuracy: 0.7913\n",
            "Epoch 8: loss did not improve from 0.52119\n",
            "32/32 [==============================] - 1s 29ms/step - loss: 0.5903 - accuracy: 0.7913 - val_loss: 0.5391 - val_accuracy: 0.8438\n",
            "Epoch 9/90\n",
            "32/32 [==============================] - ETA: 0s - loss: 0.4882 - accuracy: 0.8110\n",
            "Epoch 9: loss improved from 0.52119 to 0.48817, saving model to ./drive/MyDrive/inceptionv3\n",
            "32/32 [==============================] - 29s 929ms/step - loss: 0.4882 - accuracy: 0.8110 - val_loss: 0.2210 - val_accuracy: 0.9062\n",
            "Epoch 10/90\n",
            "31/32 [============================>.] - ETA: 0s - loss: 0.4524 - accuracy: 0.8333\n",
            "Epoch 10: loss improved from 0.48817 to 0.46284, saving model to ./drive/MyDrive/inceptionv3\n",
            "32/32 [==============================] - 29s 918ms/step - loss: 0.4628 - accuracy: 0.8346 - val_loss: 0.4899 - val_accuracy: 0.8438\n",
            "Epoch 11/90\n",
            "32/32 [==============================] - ETA: 0s - loss: 0.5745 - accuracy: 0.7953\n",
            "Epoch 11: loss did not improve from 0.46284\n",
            "32/32 [==============================] - 1s 29ms/step - loss: 0.5745 - accuracy: 0.7953 - val_loss: 0.3099 - val_accuracy: 0.9062\n",
            "Epoch 12/90\n",
            "31/32 [============================>.] - ETA: 0s - loss: 0.5621 - accuracy: 0.7805\n",
            "Epoch 12: loss did not improve from 0.46284\n",
            "32/32 [==============================] - 2s 47ms/step - loss: 0.5493 - accuracy: 0.7874 - val_loss: 0.3953 - val_accuracy: 0.8438\n",
            "Epoch 13/90\n",
            "31/32 [============================>.] - ETA: 0s - loss: 0.4174 - accuracy: 0.8226\n",
            "Epoch 13: loss improved from 0.46284 to 0.41536, saving model to ./drive/MyDrive/inceptionv3\n",
            "32/32 [==============================] - 30s 958ms/step - loss: 0.4154 - accuracy: 0.8228 - val_loss: 0.3111 - val_accuracy: 0.8438\n",
            "Epoch 14/90\n",
            "31/32 [============================>.] - ETA: 0s - loss: 0.3780 - accuracy: 0.8415\n",
            "Epoch 14: loss improved from 0.41536 to 0.38999, saving model to ./drive/MyDrive/inceptionv3\n",
            "32/32 [==============================] - 29s 936ms/step - loss: 0.3900 - accuracy: 0.8386 - val_loss: 0.1815 - val_accuracy: 0.9375\n",
            "Epoch 15/90\n",
            "32/32 [==============================] - ETA: 0s - loss: 0.4473 - accuracy: 0.8268\n",
            "Epoch 15: loss did not improve from 0.38999\n",
            "32/32 [==============================] - 1s 30ms/step - loss: 0.4473 - accuracy: 0.8268 - val_loss: 0.2790 - val_accuracy: 0.9062\n",
            "Epoch 16/90\n",
            "32/32 [==============================] - ETA: 0s - loss: 0.4255 - accuracy: 0.8189\n",
            "Epoch 16: loss did not improve from 0.38999\n",
            "32/32 [==============================] - 1s 29ms/step - loss: 0.4255 - accuracy: 0.8189 - val_loss: 0.3438 - val_accuracy: 0.8438\n",
            "Epoch 17/90\n",
            "32/32 [==============================] - ETA: 0s - loss: 0.5371 - accuracy: 0.8071\n",
            "Epoch 17: loss did not improve from 0.38999\n",
            "32/32 [==============================] - 1s 29ms/step - loss: 0.5371 - accuracy: 0.8071 - val_loss: 0.2311 - val_accuracy: 0.9375\n",
            "Epoch 18/90\n",
            "32/32 [==============================] - ETA: 0s - loss: 0.4382 - accuracy: 0.8228\n",
            "Epoch 18: loss did not improve from 0.38999\n",
            "32/32 [==============================] - 1s 29ms/step - loss: 0.4382 - accuracy: 0.8228 - val_loss: 0.2920 - val_accuracy: 0.8438\n",
            "Epoch 19/90\n",
            "31/32 [============================>.] - ETA: 0s - loss: 0.4777 - accuracy: 0.8496\n",
            "Epoch 19: loss did not improve from 0.38999\n",
            "32/32 [==============================] - 1s 30ms/step - loss: 0.4657 - accuracy: 0.8543 - val_loss: 0.3515 - val_accuracy: 0.8438\n",
            "Epoch 20/90\n",
            "31/32 [============================>.] - ETA: 0s - loss: 0.4875 - accuracy: 0.8185\n",
            "Epoch 20: loss did not improve from 0.38999\n",
            "32/32 [==============================] - 1s 29ms/step - loss: 0.4850 - accuracy: 0.8189 - val_loss: 0.7210 - val_accuracy: 0.8125\n",
            "Epoch 21/90\n",
            "32/32 [==============================] - ETA: 0s - loss: 0.4794 - accuracy: 0.8031\n",
            "Epoch 21: loss did not improve from 0.38999\n",
            "32/32 [==============================] - 1s 33ms/step - loss: 0.4794 - accuracy: 0.8031 - val_loss: 0.3661 - val_accuracy: 0.8750\n",
            "Epoch 22/90\n",
            "32/32 [==============================] - ETA: 0s - loss: 0.4655 - accuracy: 0.7835\n",
            "Epoch 22: loss did not improve from 0.38999\n",
            "32/32 [==============================] - 2s 49ms/step - loss: 0.4655 - accuracy: 0.7835 - val_loss: 0.3895 - val_accuracy: 0.8438\n",
            "Epoch 23/90\n",
            "31/32 [============================>.] - ETA: 0s - loss: 0.4467 - accuracy: 0.8252\n",
            "Epoch 23: loss did not improve from 0.38999\n",
            "32/32 [==============================] - 1s 35ms/step - loss: 0.4641 - accuracy: 0.8228 - val_loss: 0.5677 - val_accuracy: 0.8438\n",
            "Epoch 24/90\n",
            "31/32 [============================>.] - ETA: 0s - loss: 0.4638 - accuracy: 0.8130\n",
            "Epoch 24: loss did not improve from 0.38999\n",
            "32/32 [==============================] - 1s 30ms/step - loss: 0.4607 - accuracy: 0.8150 - val_loss: 0.4825 - val_accuracy: 0.8125\n",
            "Epoch 25/90\n",
            "31/32 [============================>.] - ETA: 0s - loss: 0.3774 - accuracy: 0.8293\n",
            "Epoch 25: loss improved from 0.38999 to 0.37956, saving model to ./drive/MyDrive/inceptionv3\n",
            "32/32 [==============================] - 28s 915ms/step - loss: 0.3796 - accuracy: 0.8228 - val_loss: 0.5478 - val_accuracy: 0.8125\n",
            "Epoch 26/90\n",
            "31/32 [============================>.] - ETA: 0s - loss: 0.5361 - accuracy: 0.8130\n",
            "Epoch 26: loss did not improve from 0.37956\n",
            "32/32 [==============================] - 1s 30ms/step - loss: 0.5414 - accuracy: 0.8110 - val_loss: 0.5041 - val_accuracy: 0.8125\n",
            "Epoch 27/90\n",
            "32/32 [==============================] - ETA: 0s - loss: 0.3586 - accuracy: 0.8583\n",
            "Epoch 27: loss improved from 0.37956 to 0.35860, saving model to ./drive/MyDrive/inceptionv3\n",
            "32/32 [==============================] - 28s 913ms/step - loss: 0.3586 - accuracy: 0.8583 - val_loss: 0.4250 - val_accuracy: 0.8125\n",
            "Epoch 28/90\n",
            "31/32 [============================>.] - ETA: 0s - loss: 0.5147 - accuracy: 0.8130\n",
            "Epoch 28: loss did not improve from 0.35860\n",
            "32/32 [==============================] - 1s 30ms/step - loss: 0.5068 - accuracy: 0.8150 - val_loss: 0.2745 - val_accuracy: 0.8750\n",
            "Epoch 29/90\n",
            "31/32 [============================>.] - ETA: 0s - loss: 0.4402 - accuracy: 0.8008\n",
            "Epoch 29: loss did not improve from 0.35860\n",
            "32/32 [==============================] - 1s 29ms/step - loss: 0.4409 - accuracy: 0.8031 - val_loss: 0.5574 - val_accuracy: 0.8438\n",
            "Epoch 30/90\n",
            "32/32 [==============================] - ETA: 0s - loss: 0.4130 - accuracy: 0.8425\n",
            "Epoch 30: loss did not improve from 0.35860\n",
            "32/32 [==============================] - 1s 40ms/step - loss: 0.4130 - accuracy: 0.8425 - val_loss: 0.3988 - val_accuracy: 0.8125\n",
            "Epoch 31/90\n",
            "31/32 [============================>.] - ETA: 0s - loss: 0.3756 - accuracy: 0.8415\n",
            "Epoch 31: loss did not improve from 0.35860\n",
            "32/32 [==============================] - 1s 37ms/step - loss: 0.3700 - accuracy: 0.8425 - val_loss: 0.3435 - val_accuracy: 0.8438\n",
            "Epoch 32/90\n",
            "32/32 [==============================] - ETA: 0s - loss: 0.5022 - accuracy: 0.8150\n",
            "Epoch 32: loss did not improve from 0.35860\n",
            "32/32 [==============================] - 1s 28ms/step - loss: 0.5022 - accuracy: 0.8150 - val_loss: 0.8784 - val_accuracy: 0.7812\n",
            "Epoch 33/90\n",
            "32/32 [==============================] - ETA: 0s - loss: 0.4521 - accuracy: 0.7874\n",
            "Epoch 33: loss did not improve from 0.35860\n",
            "32/32 [==============================] - 1s 29ms/step - loss: 0.4521 - accuracy: 0.7874 - val_loss: 0.1962 - val_accuracy: 0.9688\n",
            "Epoch 34/90\n",
            "31/32 [============================>.] - ETA: 0s - loss: 0.3956 - accuracy: 0.8293\n",
            "Epoch 34: loss did not improve from 0.35860\n",
            "32/32 [==============================] - 1s 29ms/step - loss: 0.4097 - accuracy: 0.8228 - val_loss: 0.2790 - val_accuracy: 0.8750\n",
            "Epoch 35/90\n",
            "32/32 [==============================] - ETA: 0s - loss: 0.3489 - accuracy: 0.8622\n",
            "Epoch 35: loss improved from 0.35860 to 0.34889, saving model to ./drive/MyDrive/inceptionv3\n",
            "32/32 [==============================] - 29s 927ms/step - loss: 0.3489 - accuracy: 0.8622 - val_loss: 0.3018 - val_accuracy: 0.8750\n",
            "Epoch 36/90\n",
            "32/32 [==============================] - ETA: 0s - loss: 0.4046 - accuracy: 0.8425\n",
            "Epoch 36: loss did not improve from 0.34889\n",
            "32/32 [==============================] - 1s 30ms/step - loss: 0.4046 - accuracy: 0.8425 - val_loss: 0.3765 - val_accuracy: 0.8750\n",
            "Epoch 37/90\n",
            "32/32 [==============================] - ETA: 0s - loss: 0.4011 - accuracy: 0.8622\n",
            "Epoch 37: loss did not improve from 0.34889\n",
            "32/32 [==============================] - 1s 30ms/step - loss: 0.4011 - accuracy: 0.8622 - val_loss: 0.4436 - val_accuracy: 0.8438\n",
            "Epoch 38/90\n",
            "32/32 [==============================] - ETA: 0s - loss: 0.3007 - accuracy: 0.8780\n",
            "Epoch 38: loss improved from 0.34889 to 0.30075, saving model to ./drive/MyDrive/inceptionv3\n",
            "32/32 [==============================] - 29s 927ms/step - loss: 0.3007 - accuracy: 0.8780 - val_loss: 0.2401 - val_accuracy: 0.9375\n",
            "Epoch 39/90\n",
            "32/32 [==============================] - ETA: 0s - loss: 0.4766 - accuracy: 0.8150\n",
            "Epoch 39: loss did not improve from 0.30075\n",
            "32/32 [==============================] - 2s 50ms/step - loss: 0.4766 - accuracy: 0.8150 - val_loss: 0.3483 - val_accuracy: 0.8438\n",
            "Epoch 40/90\n",
            "31/32 [============================>.] - ETA: 0s - loss: 0.4016 - accuracy: 0.8333\n",
            "Epoch 40: loss did not improve from 0.30075\n",
            "32/32 [==============================] - 2s 46ms/step - loss: 0.4020 - accuracy: 0.8346 - val_loss: 0.2587 - val_accuracy: 0.9062\n",
            "Epoch 41/90\n",
            "31/32 [============================>.] - ETA: 0s - loss: 0.3791 - accuracy: 0.8333\n",
            "Epoch 41: loss did not improve from 0.30075\n",
            "32/32 [==============================] - 1s 30ms/step - loss: 0.3872 - accuracy: 0.8268 - val_loss: 0.4074 - val_accuracy: 0.8125\n",
            "Epoch 42/90\n",
            "32/32 [==============================] - ETA: 0s - loss: 0.3791 - accuracy: 0.8583\n",
            "Epoch 42: loss did not improve from 0.30075\n",
            "32/32 [==============================] - 1s 29ms/step - loss: 0.3791 - accuracy: 0.8583 - val_loss: 0.2003 - val_accuracy: 0.9375\n",
            "Epoch 43/90\n",
            "32/32 [==============================] - ETA: 0s - loss: 0.4425 - accuracy: 0.8189\n",
            "Epoch 43: loss did not improve from 0.30075\n",
            "32/32 [==============================] - 1s 29ms/step - loss: 0.4425 - accuracy: 0.8189 - val_loss: 0.3902 - val_accuracy: 0.8438\n",
            "Epoch 44/90\n",
            "31/32 [============================>.] - ETA: 0s - loss: 0.4158 - accuracy: 0.8333\n",
            "Epoch 44: loss did not improve from 0.30075\n",
            "32/32 [==============================] - 1s 29ms/step - loss: 0.4123 - accuracy: 0.8346 - val_loss: 0.5151 - val_accuracy: 0.8750\n",
            "Epoch 45/90\n",
            "31/32 [============================>.] - ETA: 0s - loss: 0.4177 - accuracy: 0.8374\n",
            "Epoch 45: loss did not improve from 0.30075\n",
            "32/32 [==============================] - 1s 29ms/step - loss: 0.4205 - accuracy: 0.8386 - val_loss: 0.3671 - val_accuracy: 0.8125\n",
            "Epoch 46/90\n",
            "32/32 [==============================] - ETA: 0s - loss: 0.3959 - accuracy: 0.8504\n",
            "Epoch 46: loss did not improve from 0.30075\n",
            "32/32 [==============================] - 1s 28ms/step - loss: 0.3959 - accuracy: 0.8504 - val_loss: 0.3495 - val_accuracy: 0.8438\n",
            "Epoch 47/90\n",
            "32/32 [==============================] - ETA: 0s - loss: 0.3076 - accuracy: 0.8780\n",
            "Epoch 47: loss did not improve from 0.30075\n",
            "32/32 [==============================] - 1s 30ms/step - loss: 0.3076 - accuracy: 0.8780 - val_loss: 0.2790 - val_accuracy: 0.8750\n",
            "Epoch 48/90\n",
            "32/32 [==============================] - ETA: 0s - loss: 0.3337 - accuracy: 0.8465\n",
            "Epoch 48: loss did not improve from 0.30075\n",
            "32/32 [==============================] - 1s 30ms/step - loss: 0.3337 - accuracy: 0.8465 - val_loss: 0.2460 - val_accuracy: 0.9062\n",
            "Epoch 49/90\n",
            "31/32 [============================>.] - ETA: 0s - loss: 0.4058 - accuracy: 0.8415\n",
            "Epoch 49: loss did not improve from 0.30075\n",
            "32/32 [==============================] - 1s 30ms/step - loss: 0.4019 - accuracy: 0.8465 - val_loss: 0.2684 - val_accuracy: 0.8438\n",
            "Epoch 50/90\n",
            "32/32 [==============================] - ETA: 0s - loss: 0.3977 - accuracy: 0.8189\n",
            "Epoch 50: loss did not improve from 0.30075\n",
            "32/32 [==============================] - 2s 49ms/step - loss: 0.3977 - accuracy: 0.8189 - val_loss: 0.8191 - val_accuracy: 0.8125\n",
            "Epoch 51/90\n",
            "32/32 [==============================] - ETA: 0s - loss: 0.4329 - accuracy: 0.8307\n",
            "Epoch 51: loss did not improve from 0.30075\n",
            "32/32 [==============================] - 2s 49ms/step - loss: 0.4329 - accuracy: 0.8307 - val_loss: 0.3530 - val_accuracy: 0.8125\n",
            "Epoch 52/90\n",
            "31/32 [============================>.] - ETA: 0s - loss: 0.2898 - accuracy: 0.8943\n",
            "Epoch 52: loss improved from 0.30075 to 0.29010, saving model to ./drive/MyDrive/inceptionv3\n",
            "32/32 [==============================] - 28s 915ms/step - loss: 0.2901 - accuracy: 0.8937 - val_loss: 0.4021 - val_accuracy: 0.8438\n",
            "Epoch 53/90\n",
            "32/32 [==============================] - ETA: 0s - loss: 0.2772 - accuracy: 0.8780\n",
            "Epoch 53: loss improved from 0.29010 to 0.27722, saving model to ./drive/MyDrive/inceptionv3\n",
            "32/32 [==============================] - 29s 927ms/step - loss: 0.2772 - accuracy: 0.8780 - val_loss: 0.5768 - val_accuracy: 0.8125\n",
            "Epoch 54/90\n",
            "32/32 [==============================] - ETA: 0s - loss: 0.3557 - accuracy: 0.8543\n",
            "Epoch 54: loss did not improve from 0.27722\n",
            "32/32 [==============================] - 1s 31ms/step - loss: 0.3557 - accuracy: 0.8543 - val_loss: 0.4729 - val_accuracy: 0.7812\n",
            "Epoch 55/90\n",
            "32/32 [==============================] - ETA: 0s - loss: 0.3318 - accuracy: 0.8780\n",
            "Epoch 55: loss did not improve from 0.27722\n",
            "32/32 [==============================] - 1s 28ms/step - loss: 0.3318 - accuracy: 0.8780 - val_loss: 0.6153 - val_accuracy: 0.8438\n",
            "Epoch 56/90\n",
            "32/32 [==============================] - ETA: 0s - loss: 0.4489 - accuracy: 0.8425\n",
            "Epoch 56: loss did not improve from 0.27722\n",
            "32/32 [==============================] - 1s 30ms/step - loss: 0.4489 - accuracy: 0.8425 - val_loss: 0.6672 - val_accuracy: 0.7812\n",
            "Epoch 57/90\n",
            "32/32 [==============================] - ETA: 0s - loss: 0.3537 - accuracy: 0.8543\n",
            "Epoch 57: loss did not improve from 0.27722\n",
            "32/32 [==============================] - 1s 28ms/step - loss: 0.3537 - accuracy: 0.8543 - val_loss: 0.4396 - val_accuracy: 0.8125\n",
            "Epoch 58/90\n",
            "32/32 [==============================] - ETA: 0s - loss: 0.4167 - accuracy: 0.8465\n",
            "Epoch 58: loss did not improve from 0.27722\n",
            "32/32 [==============================] - 1s 29ms/step - loss: 0.4167 - accuracy: 0.8465 - val_loss: 0.3761 - val_accuracy: 0.8438\n",
            "Epoch 59/90\n",
            "31/32 [============================>.] - ETA: 0s - loss: 0.4052 - accuracy: 0.8455\n",
            "Epoch 59: loss did not improve from 0.27722\n",
            "32/32 [==============================] - 2s 47ms/step - loss: 0.4042 - accuracy: 0.8425 - val_loss: 0.4828 - val_accuracy: 0.8438\n",
            "Epoch 60/90\n",
            "31/32 [============================>.] - ETA: 0s - loss: 0.3807 - accuracy: 0.8293\n",
            "Epoch 60: loss did not improve from 0.27722\n",
            "32/32 [==============================] - 1s 31ms/step - loss: 0.3792 - accuracy: 0.8307 - val_loss: 0.3271 - val_accuracy: 0.8438\n",
            "Epoch 61/90\n",
            "32/32 [==============================] - ETA: 0s - loss: 0.3728 - accuracy: 0.8425\n",
            "Epoch 61: loss did not improve from 0.27722\n",
            "32/32 [==============================] - 1s 29ms/step - loss: 0.3728 - accuracy: 0.8425 - val_loss: 0.5534 - val_accuracy: 0.8125\n",
            "Epoch 62/90\n",
            "31/32 [============================>.] - ETA: 0s - loss: 0.2841 - accuracy: 0.9024\n",
            "Epoch 62: loss did not improve from 0.27722\n",
            "32/32 [==============================] - 1s 36ms/step - loss: 0.3011 - accuracy: 0.8937 - val_loss: 0.2607 - val_accuracy: 0.8750\n",
            "Epoch 63/90\n",
            "32/32 [==============================] - ETA: 0s - loss: 0.3449 - accuracy: 0.8661\n",
            "Epoch 63: loss did not improve from 0.27722\n",
            "32/32 [==============================] - 1s 30ms/step - loss: 0.3449 - accuracy: 0.8661 - val_loss: 0.3576 - val_accuracy: 0.8125\n",
            "Epoch 64/90\n",
            "32/32 [==============================] - ETA: 0s - loss: 0.3841 - accuracy: 0.8386\n",
            "Epoch 64: loss did not improve from 0.27722\n",
            "32/32 [==============================] - 1s 29ms/step - loss: 0.3841 - accuracy: 0.8386 - val_loss: 0.2539 - val_accuracy: 0.9062\n",
            "Epoch 65/90\n",
            "32/32 [==============================] - ETA: 0s - loss: 0.3742 - accuracy: 0.8504\n",
            "Epoch 65: loss did not improve from 0.27722\n",
            "32/32 [==============================] - 1s 29ms/step - loss: 0.3742 - accuracy: 0.8504 - val_loss: 0.2653 - val_accuracy: 0.9062\n",
            "Epoch 66/90\n",
            "31/32 [============================>.] - ETA: 0s - loss: 0.3155 - accuracy: 0.8699\n",
            "Epoch 66: loss did not improve from 0.27722\n",
            "32/32 [==============================] - 1s 29ms/step - loss: 0.3220 - accuracy: 0.8661 - val_loss: 0.3240 - val_accuracy: 0.9062\n",
            "Epoch 67/90\n",
            "31/32 [============================>.] - ETA: 0s - loss: 0.3235 - accuracy: 0.8577\n",
            "Epoch 67: loss did not improve from 0.27722\n",
            "32/32 [==============================] - 1s 29ms/step - loss: 0.3152 - accuracy: 0.8622 - val_loss: 0.3058 - val_accuracy: 0.8438\n",
            "Epoch 68/90\n",
            "32/32 [==============================] - ETA: 0s - loss: 0.3370 - accuracy: 0.8780\n",
            "Epoch 68: loss did not improve from 0.27722\n",
            "32/32 [==============================] - 1s 29ms/step - loss: 0.3370 - accuracy: 0.8780 - val_loss: 0.3021 - val_accuracy: 0.8125\n",
            "Epoch 69/90\n",
            "32/32 [==============================] - ETA: 0s - loss: 0.2501 - accuracy: 0.9016\n",
            "Epoch 69: loss improved from 0.27722 to 0.25006, saving model to ./drive/MyDrive/inceptionv3\n",
            "32/32 [==============================] - 29s 946ms/step - loss: 0.2501 - accuracy: 0.9016 - val_loss: 0.2696 - val_accuracy: 0.8750\n",
            "Epoch 70/90\n",
            "31/32 [============================>.] - ETA: 0s - loss: 0.4215 - accuracy: 0.8252\n",
            "Epoch 70: loss did not improve from 0.25006\n",
            "32/32 [==============================] - 1s 30ms/step - loss: 0.4088 - accuracy: 0.8307 - val_loss: 0.2718 - val_accuracy: 0.8750\n",
            "Epoch 71/90\n",
            "31/32 [============================>.] - ETA: 0s - loss: 0.3787 - accuracy: 0.8821\n",
            "Epoch 71: loss did not improve from 0.25006\n",
            "32/32 [==============================] - 1s 30ms/step - loss: 0.3712 - accuracy: 0.8858 - val_loss: 0.3530 - val_accuracy: 0.8438\n",
            "Epoch 72/90\n",
            "31/32 [============================>.] - ETA: 0s - loss: 0.2911 - accuracy: 0.8862\n",
            "Epoch 72: loss did not improve from 0.25006\n",
            "32/32 [==============================] - 1s 29ms/step - loss: 0.2847 - accuracy: 0.8898 - val_loss: 0.4029 - val_accuracy: 0.8438\n",
            "Epoch 73/90\n",
            "32/32 [==============================] - ETA: 0s - loss: 0.3850 - accuracy: 0.8622\n",
            "Epoch 73: loss did not improve from 0.25006\n",
            "32/32 [==============================] - 1s 29ms/step - loss: 0.3850 - accuracy: 0.8622 - val_loss: 0.3609 - val_accuracy: 0.8125\n",
            "Epoch 74/90\n",
            "31/32 [============================>.] - ETA: 0s - loss: 0.3048 - accuracy: 0.8780\n",
            "Epoch 74: loss did not improve from 0.25006\n",
            "32/32 [==============================] - 1s 29ms/step - loss: 0.2978 - accuracy: 0.8819 - val_loss: 0.2629 - val_accuracy: 0.9062\n",
            "Epoch 75/90\n",
            "32/32 [==============================] - ETA: 0s - loss: 0.2852 - accuracy: 0.9055\n",
            "Epoch 75: loss did not improve from 0.25006\n",
            "32/32 [==============================] - 1s 29ms/step - loss: 0.2852 - accuracy: 0.9055 - val_loss: 0.2657 - val_accuracy: 0.8750\n",
            "Epoch 76/90\n",
            "31/32 [============================>.] - ETA: 0s - loss: 0.3189 - accuracy: 0.8618\n",
            "Epoch 76: loss did not improve from 0.25006\n",
            "32/32 [==============================] - 1s 29ms/step - loss: 0.3243 - accuracy: 0.8622 - val_loss: 0.1932 - val_accuracy: 0.9062\n",
            "Epoch 77/90\n",
            "31/32 [============================>.] - ETA: 0s - loss: 0.3760 - accuracy: 0.8455\n",
            "Epoch 77: loss did not improve from 0.25006\n",
            "32/32 [==============================] - 1s 29ms/step - loss: 0.3832 - accuracy: 0.8465 - val_loss: 0.5132 - val_accuracy: 0.7812\n",
            "Epoch 78/90\n",
            "31/32 [============================>.] - ETA: 0s - loss: 0.3250 - accuracy: 0.8862\n",
            "Epoch 78: loss did not improve from 0.25006\n",
            "32/32 [==============================] - 1s 34ms/step - loss: 0.3167 - accuracy: 0.8898 - val_loss: 0.2118 - val_accuracy: 0.9062\n",
            "Epoch 79/90\n",
            "31/32 [============================>.] - ETA: 0s - loss: 0.2943 - accuracy: 0.8740\n",
            "Epoch 79: loss did not improve from 0.25006\n",
            "32/32 [==============================] - 1s 42ms/step - loss: 0.2899 - accuracy: 0.8740 - val_loss: 0.2504 - val_accuracy: 0.8750\n",
            "Epoch 80/90\n",
            "31/32 [============================>.] - ETA: 0s - loss: 0.2304 - accuracy: 0.9106\n",
            "Epoch 80: loss improved from 0.25006 to 0.23765, saving model to ./drive/MyDrive/inceptionv3\n",
            "32/32 [==============================] - 29s 940ms/step - loss: 0.2376 - accuracy: 0.9094 - val_loss: 0.2076 - val_accuracy: 0.9062\n",
            "Epoch 81/90\n",
            "32/32 [==============================] - ETA: 0s - loss: 0.2128 - accuracy: 0.9173\n",
            "Epoch 81: loss improved from 0.23765 to 0.21284, saving model to ./drive/MyDrive/inceptionv3\n",
            "32/32 [==============================] - 29s 924ms/step - loss: 0.2128 - accuracy: 0.9173 - val_loss: 0.2209 - val_accuracy: 0.9062\n",
            "Epoch 82/90\n",
            "31/32 [============================>.] - ETA: 0s - loss: 0.4004 - accuracy: 0.8374\n",
            "Epoch 82: loss did not improve from 0.21284\n",
            "32/32 [==============================] - 1s 30ms/step - loss: 0.3920 - accuracy: 0.8425 - val_loss: 0.5796 - val_accuracy: 0.7812\n",
            "Epoch 83/90\n",
            "32/32 [==============================] - ETA: 0s - loss: 0.3488 - accuracy: 0.8780\n",
            "Epoch 83: loss did not improve from 0.21284\n",
            "32/32 [==============================] - 1s 29ms/step - loss: 0.3488 - accuracy: 0.8780 - val_loss: 0.5308 - val_accuracy: 0.8125\n",
            "Epoch 84/90\n",
            "32/32 [==============================] - ETA: 0s - loss: 0.2842 - accuracy: 0.8858\n",
            "Epoch 84: loss did not improve from 0.21284\n",
            "32/32 [==============================] - 1s 31ms/step - loss: 0.2842 - accuracy: 0.8858 - val_loss: 0.1914 - val_accuracy: 0.9375\n",
            "Epoch 85/90\n",
            "31/32 [============================>.] - ETA: 0s - loss: 0.3381 - accuracy: 0.8699\n",
            "Epoch 85: loss did not improve from 0.21284\n",
            "32/32 [==============================] - 1s 33ms/step - loss: 0.3287 - accuracy: 0.8740 - val_loss: 0.3543 - val_accuracy: 0.8750\n",
            "Epoch 86/90\n",
            "31/32 [============================>.] - ETA: 0s - loss: 0.2976 - accuracy: 0.8780\n",
            "Epoch 86: loss did not improve from 0.21284\n",
            "32/32 [==============================] - 1s 30ms/step - loss: 0.2989 - accuracy: 0.8740 - val_loss: 0.3689 - val_accuracy: 0.7812\n",
            "Epoch 87/90\n",
            "31/32 [============================>.] - ETA: 0s - loss: 0.2580 - accuracy: 0.9146\n",
            "Epoch 87: loss did not improve from 0.21284\n",
            "32/32 [==============================] - 1s 31ms/step - loss: 0.2695 - accuracy: 0.9055 - val_loss: 0.2238 - val_accuracy: 0.8750\n",
            "Epoch 88/90\n",
            "32/32 [==============================] - ETA: 0s - loss: 0.2618 - accuracy: 0.8858\n",
            "Epoch 88: loss did not improve from 0.21284\n",
            "32/32 [==============================] - 1s 37ms/step - loss: 0.2618 - accuracy: 0.8858 - val_loss: 0.5237 - val_accuracy: 0.8438\n",
            "Epoch 89/90\n",
            "31/32 [============================>.] - ETA: 0s - loss: 0.3108 - accuracy: 0.8740\n",
            "Epoch 89: loss did not improve from 0.21284\n",
            "32/32 [==============================] - 1s 45ms/step - loss: 0.3090 - accuracy: 0.8780 - val_loss: 0.1371 - val_accuracy: 0.9375\n",
            "Epoch 90/90\n",
            "31/32 [============================>.] - ETA: 0s - loss: 0.2950 - accuracy: 0.8984\n",
            "Epoch 90: loss did not improve from 0.21284\n",
            "32/32 [==============================] - 1s 35ms/step - loss: 0.2888 - accuracy: 0.9016 - val_loss: 0.2152 - val_accuracy: 0.9375\n"
          ]
        }
      ]
    },
    {
      "cell_type": "code",
      "source": [
        "# Optional: Plot the training process: loss and accuracy\n",
        "import matplotlib.pyplot as plt\n",
        "\n",
        "# Plot training & validation accuracy values\n",
        "plt.plot(history.history['accuracy'])\n",
        "plt.plot(history.history['val_accuracy'])\n",
        "plt.title('Model accuracy')\n",
        "plt.ylabel('Accuracy')\n",
        "plt.xlabel('Epoch')\n",
        "plt.legend(['Train', 'Test'], loc='upper left')\n",
        "plt.show()\n",
        "\n",
        "# Plot training & validation loss values\n",
        "plt.plot(history.history['loss'])\n",
        "plt.plot(history.history['val_loss'])\n",
        "plt.title('Model loss')\n",
        "plt.ylabel('Loss')\n",
        "plt.xlabel('Epoch')\n",
        "plt.legend(['Train', 'Test'], loc='upper left')\n",
        "plt.show()"
      ],
      "metadata": {
        "colab": {
          "base_uri": "https://localhost:8080/",
          "height": 927
        },
        "id": "1Zru1uqfB1Au",
        "outputId": "0c8b1e53-6c93-4306-c1b0-5fb812ee443f"
      },
      "execution_count": null,
      "outputs": [
        {
          "output_type": "display_data",
          "data": {
            "text/plain": [
              "<Figure size 640x480 with 1 Axes>"
            ],
            "image/png": "[encoded data removed]"
          },
          "metadata": {}
        },
        {
          "output_type": "display_data",
          "data": {
            "text/plain": [
              "<Figure size 640x480 with 1 Axes>"
            ],
            "image/png": "[encoded data removed]"
          },
          "metadata": {}
        }
      ]
    },
    {
      "cell_type": "code",
      "source": [
        "import shutil\n",
        "shutil.make_archive('./drive/MyDrive/inceptionv3', 'zip', './drive/MyDrive/inceptionv3')"
      ],
      "metadata": {
        "colab": {
          "base_uri": "https://localhost:8080/",
          "height": 36
        },
        "id": "7JJ6FijNHan6",
        "outputId": "7db81142-42e0-4df8-82ea-cb02831aff40"
      },
      "execution_count": null,
      "outputs": [
        {
          "output_type": "execute_result",
          "data": {
            "text/plain": [
              "'/content/drive/MyDrive/inceptionv3.zip'"
            ],
            "application/vnd.google.colaboratory.intrinsic+json": {
              "type": "string"
            }
          },
          "metadata": {},
          "execution_count": 1
        }
      ]
    },
    {
      "cell_type": "code",
      "source": [
        "import zipfile\n",
        "with zipfile.ZipFile('./drive/MyDrive/inceptionv3.zip', 'r') as zip_ref:\n",
        "    zip_ref.extractall('./drive/MyDrive/inceptionv3')"
      ],
      "metadata": {
        "id": "zBDZd5RUNdPM"
      },
      "execution_count": null,
      "outputs": []
    },
    {
      "cell_type": "code",
      "source": [
        "model = tf.keras.models.load_model('./drive/MyDrive/inceptionv3')"
      ],
      "metadata": {
        "id": "fe54STvNNekX"
      },
      "execution_count": null,
      "outputs": []
    },
    {
      "cell_type": "code",
      "source": [
        "import numpy as np\n",
        "from tensorflow.keras.models import load_model\n",
        "from sklearn.metrics import confusion_matrix\n",
        "from tensorflow.keras.preprocessing.image import ImageDataGenerator\n",
        "\n",
        "# If your model outputs softmax probabilities, you might need to convert these to hard labels\n",
        "predictions = model.predict(test_images)\n",
        "y_pred = np.argmax(predictions, axis=1)\n",
        "\n",
        "# Assuming y_test is also encoded as integers, if it's one-hot encoded, convert it back\n",
        "# y_test_integers = np.argmax(y_test, axis=1) if y_test.ndim > 1 else y_test\n",
        "\n",
        "# Generate the confusion matrix\n",
        "cm = confusion_matrix(test_labels, y_pred)\n",
        "\n",
        "print(cm)\n"
      ],
      "metadata": {
        "colab": {
          "base_uri": "https://localhost:8080/"
        },
        "id": "3dZZYpE0NgHz",
        "outputId": "75359f56-cc48-44a0-f147-ba4d89b8c8fb"
      },
      "execution_count": null,
      "outputs": [
        {
          "output_type": "stream",
          "name": "stdout",
          "text": [
            "1/1 [==============================] - 5s 5s/step\n",
            "[[15  0  0]\n",
            " [ 0  5  5]\n",
            " [ 0  1  6]]\n"
          ]
        }
      ]
    },
    {
      "cell_type": "code",
      "source": [
        "import keras\n",
        "scce = keras.losses.SparseCategoricalCrossentropy()\n",
        "scce(test_labels, predictions)"
      ],
      "metadata": {
        "colab": {
          "base_uri": "https://localhost:8080/"
        },
        "id": "v0sTZmBaNhWa",
        "outputId": "8887893f-be68-4aab-de68-b671e646b0bd"
      },
      "execution_count": null,
      "outputs": [
        {
          "output_type": "execute_result",
          "data": {
            "text/plain": [
              "<tf.Tensor: shape=(), dtype=float32, numpy=0.43354642>"
            ]
          },
          "metadata": {},
          "execution_count": 15
        }
      ]
    },
    {
      "cell_type": "code",
      "source": [
        "from sklearn.metrics import classification_report\n",
        "print(classification_report(test_labels, y_pred))"
      ],
      "metadata": {
        "colab": {
          "base_uri": "https://localhost:8080/"
        },
        "id": "FiXCNZ44Nmus",
        "outputId": "28026edd-f108-47b1-cb28-262e6fff608b"
      },
      "execution_count": null,
      "outputs": [
        {
          "output_type": "stream",
          "name": "stdout",
          "text": [
            "              precision    recall  f1-score   support\n",
            "\n",
            "           0       1.00      1.00      1.00        15\n",
            "           1       0.83      0.50      0.62        10\n",
            "           2       0.55      0.86      0.67         7\n",
            "\n",
            "    accuracy                           0.81        32\n",
            "   macro avg       0.79      0.79      0.76        32\n",
            "weighted avg       0.85      0.81      0.81        32\n",
            "\n"
          ]
        }
      ]
    },
    {
      "cell_type": "code",
      "source": [
        "np.sum([cm[i][i] for i in range(len(cm))]) / np.array(cm).sum()"
      ],
      "metadata": {
        "id": "2fLmuuu3Nnsu",
        "colab": {
          "base_uri": "https://localhost:8080/"
        },
        "outputId": "07fdd38e-2b6e-41a1-8c27-0de4d7b30f4c"
      },
      "execution_count": null,
      "outputs": [
        {
          "output_type": "execute_result",
          "data": {
            "text/plain": [
              "0.8125"
            ]
          },
          "metadata": {},
          "execution_count": 16
        }
      ]
    },
    {
      "cell_type": "code",
      "source": [],
      "metadata": {
        "id": "5kWSiDFCWBBf"
      },
      "execution_count": null,
      "outputs": []
    }
  ]
}