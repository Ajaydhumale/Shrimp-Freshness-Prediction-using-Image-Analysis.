{
  "nbformat": 4,
  "nbformat_minor": 0,
  "metadata": {
    "colab": {
      "provenance": [],
      "gpuType": "T4"
    },
    "kernelspec": {
      "name": "python3",
      "display_name": "Python 3"
    },
    "language_info": {
      "name": "python"
    },
    "accelerator": "GPU"
  },
  "cells": [
    {
      "cell_type": "code",
      "source": [
        "import tensorflow as tf\n",
        "import numpy as np\n",
        "import os\n",
        "from tensorflow.keras.preprocessing.image import ImageDataGenerator"
      ],
      "metadata": {
        "id": "zMpvG87Xeafd"
      },
      "execution_count": null,
      "outputs": []
    },
    {
      "cell_type": "code",
      "source": [
        "\n",
        "from google.colab import drive\n",
        "drive.mount('/content/drive')"
      ],
      "metadata": {
        "colab": {
          "base_uri": "https://localhost:8080/"
        },
        "id": "PxsgqQI3eg3P",
        "outputId": "9a2c72a6-15a9-48d6-cb0f-dcabfc6e20b8"
      },
      "execution_count": null,
      "outputs": [
        {
          "output_type": "stream",
          "name": "stdout",
          "text": [
            "Mounted at /content/drive\n"
          ]
        }
      ]
    },
    {
      "cell_type": "code",
      "source": [
        "base_dir=r\"/content/drive/MyDrive/Black_samples\"\n",
        "os.listdir(base_dir)"
      ],
      "metadata": {
        "colab": {
          "base_uri": "https://localhost:8080/"
        },
        "id": "IGrdFKRMejgs",
        "outputId": "939df0f0-469f-42a9-9c26-6f63a07e20ba"
      },
      "execution_count": null,
      "outputs": [
        {
          "output_type": "execute_result",
          "data": {
            "text/plain": [
              "['Day_1', 'day_2', 'Day_3']"
            ]
          },
          "metadata": {},
          "execution_count": 3
        }
      ]
    },
    {
      "cell_type": "code",
      "source": [
        "import os\n",
        "import cv2\n",
        "import numpy as np\n",
        "from sklearn.model_selection import train_test_split\n",
        "from sklearn.metrics import accuracy_score"
      ],
      "metadata": {
        "id": "hrmW0wvLekyP"
      },
      "execution_count": null,
      "outputs": []
    },
    {
      "cell_type": "code",
      "source": [
        "def load_dataset(directory):\n",
        "    images = []\n",
        "    labels = []\n",
        "\n",
        "    for day_folder in os.listdir(directory):\n",
        "        day_path = os.path.join(directory, day_folder)\n",
        "\n",
        "        if os.path.isdir(day_path):\n",
        "            for filename in os.listdir(day_path):\n",
        "                if filename.endswith(\".jpg\") or filename.endswith(\".png\"):\n",
        "                    image_path = os.path.join(day_path, filename)\n",
        "                    label = int(day_folder[-1])  # Extract day number from folder name\n",
        "\n",
        "                    # Read and preprocess the image\n",
        "                    img = cv2.imread(image_path)\n",
        "                    img = cv2.resize(img, (100, 100))\n",
        "\n",
        "                    images.append(img/255)  # Flatten the image array\n",
        "                    # print(img.shape, transformed_img.shape)\n",
        "                    labels.append(label)\n",
        "\n",
        "    return np.array(images), np.array(labels)\n",
        "\n",
        "# Load the dataset from the specified directory\n",
        "dataset_directory = '/content/drive/MyDrive/Black_samples'\n",
        "images, labels = load_dataset(dataset_directory)"
      ],
      "metadata": {
        "id": "r66mD_OMepU0"
      },
      "execution_count": null,
      "outputs": []
    },
    {
      "cell_type": "code",
      "source": [
        "\n",
        "labels = labels - 1\n",
        "labels"
      ],
      "metadata": {
        "colab": {
          "base_uri": "https://localhost:8080/"
        },
        "id": "o9KGrjixerEd",
        "outputId": "534d59c2-3e8b-4ebe-b2d9-534581b4ff0a"
      },
      "execution_count": null,
      "outputs": [
        {
          "output_type": "execute_result",
          "data": {
            "text/plain": [
              "array([0, 0, 0, 0, 0, 0, 0, 0, 0, 0, 0, 0, 0, 0, 0, 0, 0, 0, 0, 0, 0, 0,\n",
              "       0, 0, 0, 0, 0, 0, 0, 0, 0, 0, 0, 0, 0, 0, 0, 0, 0, 0, 0, 0, 0, 0,\n",
              "       0, 0, 0, 0, 0, 0, 0, 0, 0, 0, 0, 0, 0, 0, 0, 0, 0, 0, 0, 0, 0, 0,\n",
              "       0, 0, 0, 0, 0, 0, 0, 0, 0, 0, 0, 0, 0, 0, 0, 0, 0, 0, 0, 0, 0, 0,\n",
              "       0, 0, 0, 0, 0, 0, 0, 0, 0, 0, 0, 0, 0, 0, 0, 0, 0, 0, 0, 0, 0, 0,\n",
              "       0, 0, 0, 0, 0, 0, 0, 0, 0, 0, 0, 0, 0, 0, 0, 1, 1, 1, 1, 1, 1, 1,\n",
              "       1, 1, 1, 1, 1, 1, 1, 1, 1, 1, 1, 1, 1, 1, 1, 1, 1, 1, 1, 1, 1, 1,\n",
              "       1, 1, 1, 1, 1, 1, 1, 1, 1, 1, 1, 1, 1, 1, 1, 1, 1, 1, 1, 1, 1, 1,\n",
              "       1, 1, 1, 1, 1, 1, 1, 1, 1, 1, 1, 1, 1, 1, 1, 1, 1, 1, 1, 1, 1, 2,\n",
              "       2, 2, 2, 2, 2, 2, 2, 2, 2, 2, 2, 2, 2, 2, 2, 2, 2, 2, 2, 2, 2, 2,\n",
              "       2, 2, 2, 2, 2, 2, 2, 2, 2, 2, 2, 2, 2, 2, 2, 2, 2, 2, 2, 2, 2, 2,\n",
              "       2, 2, 2, 2, 2, 2, 2, 2, 2, 2, 2, 2, 2, 2, 2, 2, 2, 2, 2, 2, 2, 2,\n",
              "       2, 2, 2, 2, 2, 2, 2, 2, 2, 2, 2, 2, 2, 2, 2, 2, 2, 2, 2, 2, 2, 2,\n",
              "       2, 2, 2, 2, 2, 2, 2, 2, 2, 2, 2, 2, 2, 2, 2, 2, 2, 2, 2, 2, 2, 2,\n",
              "       2, 2, 2, 2, 2, 2, 2, 2, 2, 2])"
            ]
          },
          "metadata": {},
          "execution_count": 6
        }
      ]
    },
    {
      "cell_type": "code",
      "source": [
        "train_images, test_images, train_labels, test_labels = train_test_split(images, labels, test_size=0.2, random_state=42)\n",
        "eval_images, test_images, eval_labels, test_labels = train_test_split(test_images, test_labels, test_size=0.5, random_state=42)"
      ],
      "metadata": {
        "id": "y8XDiP5ces8s"
      },
      "execution_count": null,
      "outputs": []
    },
    {
      "cell_type": "code",
      "source": [
        "len(train_images)"
      ],
      "metadata": {
        "colab": {
          "base_uri": "https://localhost:8080/"
        },
        "id": "ak4mkD_ge5zW",
        "outputId": "e268dc12-ee36-4f34-d055-cc82cbab0a3a"
      },
      "execution_count": null,
      "outputs": [
        {
          "output_type": "execute_result",
          "data": {
            "text/plain": [
              "254"
            ]
          },
          "metadata": {},
          "execution_count": 8
        }
      ]
    },
    {
      "cell_type": "code",
      "source": [
        "data_gen = ImageDataGenerator(\n",
        "    rotation_range=20,\n",
        "    width_shift_range=0.2,\n",
        "    height_shift_range=0.2,\n",
        "    shear_range=0.2,\n",
        "    zoom_range=0.2,\n",
        "    horizontal_flip=True,\n",
        "    fill_mode='nearest'\n",
        ")\n",
        "\n",
        "\n",
        "data_gen.fit(train_images)\n",
        "\n",
        "train_generator = data_gen.flow(\n",
        "    train_images,\n",
        "    train_labels,\n",
        "    batch_size=8\n",
        ")"
      ],
      "metadata": {
        "id": "VSiFMoqAeutQ"
      },
      "execution_count": null,
      "outputs": []
    },
    {
      "cell_type": "code",
      "source": [
        "import tensorflow as tf\n",
        "from tensorflow.keras.models import Sequential\n",
        "from tensorflow.keras.layers import Conv2D, Flatten, Dense, MaxPool2D, Dropout\n",
        "from keras.applications.vgg16 import VGG16\n",
        "from keras.applications.vgg16 import preprocess_input\n",
        "\n",
        "base_model = VGG16(weights='imagenet', include_top=False, input_shape=(100, 100, 3))\n",
        "base_model.trainable = False\n",
        "model = Sequential([\n",
        "    base_model,\n",
        "    Flatten(),\n",
        "    Dense(512, activation=tf.keras.layers.ReLU()),\n",
        "    Dense(3, activation='softmax')\n",
        "])\n",
        "\n",
        "# Compile the model\n",
        "model.compile(optimizer=tf.keras.optimizers.Adam(learning_rate=0.002), loss='sparse_categorical_crossentropy', metrics=['accuracy'])\n",
        "\n",
        "# Model summary\n",
        "model.summary()\n"
      ],
      "metadata": {
        "colab": {
          "base_uri": "https://localhost:8080/"
        },
        "id": "boxfY7lEev6k",
        "outputId": "890e349a-cfd0-4528-d2cd-b011707b36a9"
      },
      "execution_count": null,
      "outputs": [
        {
          "output_type": "stream",
          "name": "stdout",
          "text": [
            "Downloading data from https://storage.googleapis.com/tensorflow/keras-applications/vgg16/vgg16_weights_tf_dim_ordering_tf_kernels_notop.h5\n",
            "58889256/58889256 [==============================] - 0s 0us/step\n",
            "Model: \"sequential\"\n",
            "_________________________________________________________________\n",
            " Layer (type)                Output Shape              Param #   \n",
            "=================================================================\n",
            " vgg16 (Functional)          (None, 3, 3, 512)         14714688  \n",
            "                                                                 \n",
            " flatten (Flatten)           (None, 4608)              0         \n",
            "                                                                 \n",
            " dense (Dense)               (None, 512)               2359808   \n",
            "                                                                 \n",
            " dense_1 (Dense)             (None, 3)                 1539      \n",
            "                                                                 \n",
            "=================================================================\n",
            "Total params: 17076035 (65.14 MB)\n",
            "Trainable params: 2361347 (9.01 MB)\n",
            "Non-trainable params: 14714688 (56.13 MB)\n",
            "_________________________________________________________________\n"
          ]
        }
      ]
    },
    {
      "cell_type": "code",
      "source": [
        "for it in train_generator:\n",
        "    print(it[0].shape)\n",
        "    op = model(it[0])\n",
        "    print(op.shape)\n",
        "    break"
      ],
      "metadata": {
        "colab": {
          "base_uri": "https://localhost:8080/"
        },
        "id": "dWYnVz4be_2G",
        "outputId": "accab85e-1ad2-40a1-d5be-a870cbf2dae0"
      },
      "execution_count": null,
      "outputs": [
        {
          "output_type": "stream",
          "name": "stdout",
          "text": [
            "(8, 100, 100, 3)\n",
            "(8, 3)\n"
          ]
        }
      ]
    },
    {
      "cell_type": "code",
      "source": [
        "callback = tf.keras.callbacks.ModelCheckpoint('./drive/MyDrive/VGG16', monitor = 'loss', save_best_only = True, verbose = 1)"
      ],
      "metadata": {
        "id": "NSSRF0U-fBbY"
      },
      "execution_count": null,
      "outputs": []
    },
    {
      "cell_type": "code",
      "source": [
        "epochs = 90\n",
        "\n",
        "# Fit the model\n",
        "history = model.fit(\n",
        "    train_generator,\n",
        "    epochs=epochs,\n",
        "    validation_data=(eval_images, eval_labels),\n",
        "    callbacks=[callback]\n",
        ")"
      ],
      "metadata": {
        "colab": {
          "base_uri": "https://localhost:8080/"
        },
        "id": "U7Rg2CO3fDP_",
        "outputId": "5649471d-d98d-4b4a-d665-b872b5cbe49d"
      },
      "execution_count": null,
      "outputs": [
        {
          "output_type": "stream",
          "name": "stdout",
          "text": [
            "Epoch 1/90\n",
            "32/32 [==============================] - ETA: 0s - loss: 1.7352 - accuracy: 0.5551\n",
            "Epoch 1: loss improved from inf to 1.73522, saving model to ./drive/MyDrive/VGG16\n",
            "32/32 [==============================] - 40s 1s/step - loss: 1.7352 - accuracy: 0.5551 - val_loss: 1.1585 - val_accuracy: 0.7188\n",
            "Epoch 2/90\n",
            "32/32 [==============================] - ETA: 0s - loss: 0.6410 - accuracy: 0.7362\n",
            "Epoch 2: loss improved from 1.73522 to 0.64103, saving model to ./drive/MyDrive/VGG16\n",
            "32/32 [==============================] - 39s 1s/step - loss: 0.6410 - accuracy: 0.7362 - val_loss: 0.5419 - val_accuracy: 0.8438\n",
            "Epoch 3/90\n",
            "32/32 [==============================] - ETA: 0s - loss: 0.5694 - accuracy: 0.7953\n",
            "Epoch 3: loss improved from 0.64103 to 0.56944, saving model to ./drive/MyDrive/VGG16\n",
            "32/32 [==============================] - 36s 1s/step - loss: 0.5694 - accuracy: 0.7953 - val_loss: 0.7533 - val_accuracy: 0.8125\n",
            "Epoch 4/90\n",
            "32/32 [==============================] - ETA: 0s - loss: 0.6244 - accuracy: 0.7913\n",
            "Epoch 4: loss did not improve from 0.56944\n",
            "32/32 [==============================] - 36s 1s/step - loss: 0.6244 - accuracy: 0.7913 - val_loss: 0.5520 - val_accuracy: 0.8125\n",
            "Epoch 5/90\n",
            "32/32 [==============================] - ETA: 0s - loss: 0.4109 - accuracy: 0.8425\n",
            "Epoch 5: loss improved from 0.56944 to 0.41088, saving model to ./drive/MyDrive/VGG16\n",
            "32/32 [==============================] - 39s 1s/step - loss: 0.4109 - accuracy: 0.8425 - val_loss: 0.3050 - val_accuracy: 0.9062\n",
            "Epoch 6/90\n",
            "32/32 [==============================] - ETA: 0s - loss: 0.3072 - accuracy: 0.8898\n",
            "Epoch 6: loss improved from 0.41088 to 0.30716, saving model to ./drive/MyDrive/VGG16\n",
            "32/32 [==============================] - 38s 1s/step - loss: 0.3072 - accuracy: 0.8898 - val_loss: 0.6288 - val_accuracy: 0.8125\n",
            "Epoch 7/90\n",
            "32/32 [==============================] - ETA: 0s - loss: 0.3680 - accuracy: 0.8583\n",
            "Epoch 7: loss did not improve from 0.30716\n",
            "32/32 [==============================] - 36s 1s/step - loss: 0.3680 - accuracy: 0.8583 - val_loss: 0.4042 - val_accuracy: 0.8438\n",
            "Epoch 8/90\n",
            "32/32 [==============================] - ETA: 0s - loss: 0.3385 - accuracy: 0.8740\n",
            "Epoch 8: loss did not improve from 0.30716\n",
            "32/32 [==============================] - 35s 1s/step - loss: 0.3385 - accuracy: 0.8740 - val_loss: 0.3892 - val_accuracy: 0.8438\n",
            "Epoch 9/90\n",
            "32/32 [==============================] - ETA: 0s - loss: 0.3653 - accuracy: 0.8504\n",
            "Epoch 9: loss did not improve from 0.30716\n",
            "32/32 [==============================] - 35s 1s/step - loss: 0.3653 - accuracy: 0.8504 - val_loss: 0.2445 - val_accuracy: 0.9688\n",
            "Epoch 10/90\n",
            "32/32 [==============================] - ETA: 0s - loss: 0.3361 - accuracy: 0.8543\n",
            "Epoch 10: loss did not improve from 0.30716\n",
            "32/32 [==============================] - 35s 1s/step - loss: 0.3361 - accuracy: 0.8543 - val_loss: 0.6002 - val_accuracy: 0.8125\n",
            "Epoch 11/90\n",
            "32/32 [==============================] - ETA: 0s - loss: 0.3188 - accuracy: 0.8622\n",
            "Epoch 11: loss did not improve from 0.30716\n",
            "32/32 [==============================] - 38s 1s/step - loss: 0.3188 - accuracy: 0.8622 - val_loss: 0.5096 - val_accuracy: 0.8125\n",
            "Epoch 12/90\n",
            "32/32 [==============================] - ETA: 0s - loss: 0.2852 - accuracy: 0.8937\n",
            "Epoch 12: loss improved from 0.30716 to 0.28525, saving model to ./drive/MyDrive/VGG16\n",
            "32/32 [==============================] - 36s 1s/step - loss: 0.2852 - accuracy: 0.8937 - val_loss: 0.4238 - val_accuracy: 0.8438\n",
            "Epoch 13/90\n",
            "32/32 [==============================] - ETA: 0s - loss: 0.3156 - accuracy: 0.8898\n",
            "Epoch 13: loss did not improve from 0.28525\n",
            "32/32 [==============================] - 41s 1s/step - loss: 0.3156 - accuracy: 0.8898 - val_loss: 0.2254 - val_accuracy: 0.8750\n",
            "Epoch 14/90\n",
            "32/32 [==============================] - ETA: 0s - loss: 0.3161 - accuracy: 0.8701\n",
            "Epoch 14: loss did not improve from 0.28525\n",
            "32/32 [==============================] - 35s 1s/step - loss: 0.3161 - accuracy: 0.8701 - val_loss: 0.3319 - val_accuracy: 0.8750\n",
            "Epoch 15/90\n",
            "32/32 [==============================] - ETA: 0s - loss: 0.2429 - accuracy: 0.8819\n",
            "Epoch 15: loss improved from 0.28525 to 0.24293, saving model to ./drive/MyDrive/VGG16\n",
            "32/32 [==============================] - 39s 1s/step - loss: 0.2429 - accuracy: 0.8819 - val_loss: 0.3460 - val_accuracy: 0.8438\n",
            "Epoch 16/90\n",
            "32/32 [==============================] - ETA: 0s - loss: 0.2830 - accuracy: 0.8937\n",
            "Epoch 16: loss did not improve from 0.24293\n",
            "32/32 [==============================] - 36s 1s/step - loss: 0.2830 - accuracy: 0.8937 - val_loss: 0.3994 - val_accuracy: 0.8125\n",
            "Epoch 17/90\n",
            "32/32 [==============================] - ETA: 0s - loss: 0.2705 - accuracy: 0.8898\n",
            "Epoch 17: loss did not improve from 0.24293\n",
            "32/32 [==============================] - 35s 1s/step - loss: 0.2705 - accuracy: 0.8898 - val_loss: 0.2918 - val_accuracy: 0.8750\n",
            "Epoch 18/90\n",
            "32/32 [==============================] - ETA: 0s - loss: 0.3416 - accuracy: 0.8425\n",
            "Epoch 18: loss did not improve from 0.24293\n",
            "32/32 [==============================] - 33s 1s/step - loss: 0.3416 - accuracy: 0.8425 - val_loss: 0.3839 - val_accuracy: 0.8750\n",
            "Epoch 19/90\n",
            "32/32 [==============================] - ETA: 0s - loss: 0.1954 - accuracy: 0.9213\n",
            "Epoch 19: loss improved from 0.24293 to 0.19538, saving model to ./drive/MyDrive/VGG16\n",
            "32/32 [==============================] - 39s 1s/step - loss: 0.1954 - accuracy: 0.9213 - val_loss: 0.3768 - val_accuracy: 0.8438\n",
            "Epoch 20/90\n",
            "32/32 [==============================] - ETA: 0s - loss: 0.1988 - accuracy: 0.9173\n",
            "Epoch 20: loss did not improve from 0.19538\n",
            "32/32 [==============================] - 36s 1s/step - loss: 0.1988 - accuracy: 0.9173 - val_loss: 0.5005 - val_accuracy: 0.8438\n",
            "Epoch 21/90\n",
            "32/32 [==============================] - ETA: 0s - loss: 0.2444 - accuracy: 0.8937\n",
            "Epoch 21: loss did not improve from 0.19538\n",
            "32/32 [==============================] - 35s 1s/step - loss: 0.2444 - accuracy: 0.8937 - val_loss: 0.2431 - val_accuracy: 0.9062\n",
            "Epoch 22/90\n",
            "32/32 [==============================] - ETA: 0s - loss: 0.2706 - accuracy: 0.9055\n",
            "Epoch 22: loss did not improve from 0.19538\n",
            "32/32 [==============================] - 35s 1s/step - loss: 0.2706 - accuracy: 0.9055 - val_loss: 0.3659 - val_accuracy: 0.8750\n",
            "Epoch 23/90\n",
            "32/32 [==============================] - ETA: 0s - loss: 0.2209 - accuracy: 0.9134\n",
            "Epoch 23: loss did not improve from 0.19538\n",
            "32/32 [==============================] - 35s 1s/step - loss: 0.2209 - accuracy: 0.9134 - val_loss: 0.2846 - val_accuracy: 0.8438\n",
            "Epoch 24/90\n",
            "32/32 [==============================] - ETA: 0s - loss: 0.1856 - accuracy: 0.9409\n",
            "Epoch 24: loss improved from 0.19538 to 0.18556, saving model to ./drive/MyDrive/VGG16\n",
            "32/32 [==============================] - 38s 1s/step - loss: 0.1856 - accuracy: 0.9409 - val_loss: 0.3671 - val_accuracy: 0.9062\n",
            "Epoch 25/90\n",
            "32/32 [==============================] - ETA: 0s - loss: 0.2046 - accuracy: 0.9134\n",
            "Epoch 25: loss did not improve from 0.18556\n",
            "32/32 [==============================] - 36s 1s/step - loss: 0.2046 - accuracy: 0.9134 - val_loss: 0.1645 - val_accuracy: 0.8750\n",
            "Epoch 26/90\n",
            "32/32 [==============================] - ETA: 0s - loss: 0.2510 - accuracy: 0.9016\n",
            "Epoch 26: loss did not improve from 0.18556\n",
            "32/32 [==============================] - 35s 1s/step - loss: 0.2510 - accuracy: 0.9016 - val_loss: 0.4900 - val_accuracy: 0.8438\n",
            "Epoch 27/90\n",
            "32/32 [==============================] - ETA: 0s - loss: 0.2691 - accuracy: 0.9055\n",
            "Epoch 27: loss did not improve from 0.18556\n",
            "32/32 [==============================] - 37s 1s/step - loss: 0.2691 - accuracy: 0.9055 - val_loss: 0.3132 - val_accuracy: 0.9062\n",
            "Epoch 28/90\n",
            "32/32 [==============================] - ETA: 0s - loss: 0.2559 - accuracy: 0.8898\n",
            "Epoch 28: loss did not improve from 0.18556\n",
            "32/32 [==============================] - 36s 1s/step - loss: 0.2559 - accuracy: 0.8898 - val_loss: 0.2222 - val_accuracy: 0.9062\n",
            "Epoch 29/90\n",
            "32/32 [==============================] - ETA: 0s - loss: 0.2328 - accuracy: 0.9213\n",
            "Epoch 29: loss did not improve from 0.18556\n",
            "32/32 [==============================] - 36s 1s/step - loss: 0.2328 - accuracy: 0.9213 - val_loss: 0.2004 - val_accuracy: 0.9062\n",
            "Epoch 30/90\n",
            "32/32 [==============================] - ETA: 0s - loss: 0.2470 - accuracy: 0.8858\n",
            "Epoch 30: loss did not improve from 0.18556\n",
            "32/32 [==============================] - 36s 1s/step - loss: 0.2470 - accuracy: 0.8858 - val_loss: 0.2914 - val_accuracy: 0.9062\n",
            "Epoch 31/90\n",
            "32/32 [==============================] - ETA: 0s - loss: 0.1825 - accuracy: 0.9291\n",
            "Epoch 31: loss improved from 0.18556 to 0.18252, saving model to ./drive/MyDrive/VGG16\n",
            "32/32 [==============================] - 39s 1s/step - loss: 0.1825 - accuracy: 0.9291 - val_loss: 0.2068 - val_accuracy: 0.9062\n",
            "Epoch 32/90\n",
            "32/32 [==============================] - ETA: 0s - loss: 0.2023 - accuracy: 0.9291\n",
            "Epoch 32: loss did not improve from 0.18252\n",
            "32/32 [==============================] - 36s 1s/step - loss: 0.2023 - accuracy: 0.9291 - val_loss: 0.3704 - val_accuracy: 0.8438\n",
            "Epoch 33/90\n",
            "32/32 [==============================] - ETA: 0s - loss: 0.1388 - accuracy: 0.9409\n",
            "Epoch 33: loss improved from 0.18252 to 0.13878, saving model to ./drive/MyDrive/VGG16\n",
            "32/32 [==============================] - 38s 1s/step - loss: 0.1388 - accuracy: 0.9409 - val_loss: 0.1705 - val_accuracy: 0.9062\n",
            "Epoch 34/90\n",
            "32/32 [==============================] - ETA: 0s - loss: 0.1977 - accuracy: 0.9291\n",
            "Epoch 34: loss did not improve from 0.13878\n",
            "32/32 [==============================] - 36s 1s/step - loss: 0.1977 - accuracy: 0.9291 - val_loss: 0.2031 - val_accuracy: 0.9688\n",
            "Epoch 35/90\n",
            "32/32 [==============================] - ETA: 0s - loss: 0.1776 - accuracy: 0.9331\n",
            "Epoch 35: loss did not improve from 0.13878\n",
            "32/32 [==============================] - 33s 1s/step - loss: 0.1776 - accuracy: 0.9331 - val_loss: 0.3922 - val_accuracy: 0.7812\n",
            "Epoch 36/90\n",
            "32/32 [==============================] - ETA: 0s - loss: 0.2279 - accuracy: 0.9016\n",
            "Epoch 36: loss did not improve from 0.13878\n",
            "32/32 [==============================] - 35s 1s/step - loss: 0.2279 - accuracy: 0.9016 - val_loss: 0.4452 - val_accuracy: 0.8125\n",
            "Epoch 37/90\n",
            "32/32 [==============================] - ETA: 0s - loss: 0.2360 - accuracy: 0.9055\n",
            "Epoch 37: loss did not improve from 0.13878\n",
            "32/32 [==============================] - 35s 1s/step - loss: 0.2360 - accuracy: 0.9055 - val_loss: 0.3854 - val_accuracy: 0.8125\n",
            "Epoch 38/90\n",
            "32/32 [==============================] - ETA: 0s - loss: 0.1716 - accuracy: 0.9291\n",
            "Epoch 38: loss did not improve from 0.13878\n",
            "32/32 [==============================] - 35s 1s/step - loss: 0.1716 - accuracy: 0.9291 - val_loss: 0.3621 - val_accuracy: 0.8750\n",
            "Epoch 39/90\n",
            "32/32 [==============================] - ETA: 0s - loss: 0.1417 - accuracy: 0.9488\n",
            "Epoch 39: loss did not improve from 0.13878\n",
            "32/32 [==============================] - 34s 1s/step - loss: 0.1417 - accuracy: 0.9488 - val_loss: 0.4085 - val_accuracy: 0.8438\n",
            "Epoch 40/90\n",
            "32/32 [==============================] - ETA: 0s - loss: 0.1417 - accuracy: 0.9488\n",
            "Epoch 40: loss did not improve from 0.13878\n",
            "32/32 [==============================] - 35s 1s/step - loss: 0.1417 - accuracy: 0.9488 - val_loss: 0.4996 - val_accuracy: 0.8750\n",
            "Epoch 41/90\n",
            "32/32 [==============================] - ETA: 0s - loss: 0.1743 - accuracy: 0.9291\n",
            "Epoch 41: loss did not improve from 0.13878\n",
            "32/32 [==============================] - 35s 1s/step - loss: 0.1743 - accuracy: 0.9291 - val_loss: 0.2403 - val_accuracy: 0.8438\n",
            "Epoch 42/90\n",
            "32/32 [==============================] - ETA: 0s - loss: 0.1673 - accuracy: 0.9370\n",
            "Epoch 42: loss did not improve from 0.13878\n",
            "32/32 [==============================] - 35s 1s/step - loss: 0.1673 - accuracy: 0.9370 - val_loss: 0.2368 - val_accuracy: 0.9062\n",
            "Epoch 43/90\n",
            "32/32 [==============================] - ETA: 0s - loss: 0.1488 - accuracy: 0.9291\n",
            "Epoch 43: loss did not improve from 0.13878\n",
            "32/32 [==============================] - 35s 1s/step - loss: 0.1488 - accuracy: 0.9291 - val_loss: 0.1639 - val_accuracy: 0.9688\n",
            "Epoch 44/90\n",
            "32/32 [==============================] - ETA: 0s - loss: 0.1655 - accuracy: 0.9173\n",
            "Epoch 44: loss did not improve from 0.13878\n",
            "32/32 [==============================] - 35s 1s/step - loss: 0.1655 - accuracy: 0.9173 - val_loss: 0.3391 - val_accuracy: 0.8750\n",
            "Epoch 45/90\n",
            "32/32 [==============================] - ETA: 0s - loss: 0.1530 - accuracy: 0.9449\n",
            "Epoch 45: loss did not improve from 0.13878\n",
            "32/32 [==============================] - 35s 1s/step - loss: 0.1530 - accuracy: 0.9449 - val_loss: 0.6445 - val_accuracy: 0.8438\n",
            "Epoch 46/90\n",
            "32/32 [==============================] - ETA: 0s - loss: 0.1382 - accuracy: 0.9449\n",
            "Epoch 46: loss improved from 0.13878 to 0.13822, saving model to ./drive/MyDrive/VGG16\n",
            "32/32 [==============================] - 36s 1s/step - loss: 0.1382 - accuracy: 0.9449 - val_loss: 0.2735 - val_accuracy: 0.8750\n",
            "Epoch 47/90\n",
            "32/32 [==============================] - ETA: 0s - loss: 0.1959 - accuracy: 0.9331\n",
            "Epoch 47: loss did not improve from 0.13822\n",
            "32/32 [==============================] - 36s 1s/step - loss: 0.1959 - accuracy: 0.9331 - val_loss: 0.3157 - val_accuracy: 0.8438\n",
            "Epoch 48/90\n",
            "32/32 [==============================] - ETA: 0s - loss: 0.2729 - accuracy: 0.8898\n",
            "Epoch 48: loss did not improve from 0.13822\n",
            "32/32 [==============================] - 35s 1s/step - loss: 0.2729 - accuracy: 0.8898 - val_loss: 0.2153 - val_accuracy: 0.9062\n",
            "Epoch 49/90\n",
            "32/32 [==============================] - ETA: 0s - loss: 0.1617 - accuracy: 0.9449\n",
            "Epoch 49: loss did not improve from 0.13822\n",
            "32/32 [==============================] - 35s 1s/step - loss: 0.1617 - accuracy: 0.9449 - val_loss: 0.1913 - val_accuracy: 0.9375\n",
            "Epoch 50/90\n",
            "32/32 [==============================] - ETA: 0s - loss: 0.1013 - accuracy: 0.9646\n",
            "Epoch 50: loss improved from 0.13822 to 0.10126, saving model to ./drive/MyDrive/VGG16\n",
            "32/32 [==============================] - 38s 1s/step - loss: 0.1013 - accuracy: 0.9646 - val_loss: 0.4862 - val_accuracy: 0.8438\n",
            "Epoch 51/90\n",
            "32/32 [==============================] - ETA: 0s - loss: 0.1639 - accuracy: 0.9409\n",
            "Epoch 51: loss did not improve from 0.10126\n",
            "32/32 [==============================] - 36s 1s/step - loss: 0.1639 - accuracy: 0.9409 - val_loss: 0.3467 - val_accuracy: 0.8438\n",
            "Epoch 52/90\n",
            "32/32 [==============================] - ETA: 0s - loss: 0.1758 - accuracy: 0.9094\n",
            "Epoch 52: loss did not improve from 0.10126\n",
            "32/32 [==============================] - 35s 1s/step - loss: 0.1758 - accuracy: 0.9094 - val_loss: 0.4346 - val_accuracy: 0.8438\n",
            "Epoch 53/90\n",
            "32/32 [==============================] - ETA: 0s - loss: 0.0951 - accuracy: 0.9606\n",
            "Epoch 53: loss improved from 0.10126 to 0.09514, saving model to ./drive/MyDrive/VGG16\n",
            "32/32 [==============================] - 37s 1s/step - loss: 0.0951 - accuracy: 0.9606 - val_loss: 0.5256 - val_accuracy: 0.8125\n",
            "Epoch 54/90\n",
            "32/32 [==============================] - ETA: 0s - loss: 0.3027 - accuracy: 0.8858\n",
            "Epoch 54: loss did not improve from 0.09514\n",
            "32/32 [==============================] - 35s 1s/step - loss: 0.3027 - accuracy: 0.8858 - val_loss: 0.7108 - val_accuracy: 0.8125\n",
            "Epoch 55/90\n",
            "32/32 [==============================] - ETA: 0s - loss: 0.3009 - accuracy: 0.8898\n",
            "Epoch 55: loss did not improve from 0.09514\n",
            "32/32 [==============================] - 33s 1s/step - loss: 0.3009 - accuracy: 0.8898 - val_loss: 0.4844 - val_accuracy: 0.8438\n",
            "Epoch 56/90\n",
            "32/32 [==============================] - ETA: 0s - loss: 0.1669 - accuracy: 0.9449\n",
            "Epoch 56: loss did not improve from 0.09514\n",
            "32/32 [==============================] - 35s 1s/step - loss: 0.1669 - accuracy: 0.9449 - val_loss: 0.2601 - val_accuracy: 0.8750\n",
            "Epoch 57/90\n",
            "32/32 [==============================] - ETA: 0s - loss: 0.1155 - accuracy: 0.9606\n",
            "Epoch 57: loss did not improve from 0.09514\n",
            "32/32 [==============================] - 35s 1s/step - loss: 0.1155 - accuracy: 0.9606 - val_loss: 0.2882 - val_accuracy: 0.8438\n",
            "Epoch 58/90\n",
            "32/32 [==============================] - ETA: 0s - loss: 0.1860 - accuracy: 0.9173\n",
            "Epoch 58: loss did not improve from 0.09514\n",
            "32/32 [==============================] - 33s 1s/step - loss: 0.1860 - accuracy: 0.9173 - val_loss: 0.8899 - val_accuracy: 0.7812\n",
            "Epoch 59/90\n",
            "32/32 [==============================] - ETA: 0s - loss: 0.1563 - accuracy: 0.9488\n",
            "Epoch 59: loss did not improve from 0.09514\n",
            "32/32 [==============================] - 35s 1s/step - loss: 0.1563 - accuracy: 0.9488 - val_loss: 0.3774 - val_accuracy: 0.8438\n",
            "Epoch 60/90\n",
            "32/32 [==============================] - ETA: 0s - loss: 0.1690 - accuracy: 0.9488\n",
            "Epoch 60: loss did not improve from 0.09514\n",
            "32/32 [==============================] - 35s 1s/step - loss: 0.1690 - accuracy: 0.9488 - val_loss: 0.3543 - val_accuracy: 0.8750\n",
            "Epoch 61/90\n",
            "32/32 [==============================] - ETA: 0s - loss: 0.2664 - accuracy: 0.9213\n",
            "Epoch 61: loss did not improve from 0.09514\n",
            "32/32 [==============================] - 35s 1s/step - loss: 0.2664 - accuracy: 0.9213 - val_loss: 0.4073 - val_accuracy: 0.8750\n",
            "Epoch 62/90\n",
            "32/32 [==============================] - ETA: 0s - loss: 0.1148 - accuracy: 0.9567\n",
            "Epoch 62: loss did not improve from 0.09514\n",
            "32/32 [==============================] - 33s 1s/step - loss: 0.1148 - accuracy: 0.9567 - val_loss: 0.3327 - val_accuracy: 0.8750\n",
            "Epoch 63/90\n",
            "32/32 [==============================] - ETA: 0s - loss: 0.1526 - accuracy: 0.9488\n",
            "Epoch 63: loss did not improve from 0.09514\n",
            "32/32 [==============================] - 35s 1s/step - loss: 0.1526 - accuracy: 0.9488 - val_loss: 0.6356 - val_accuracy: 0.8438\n",
            "Epoch 64/90\n",
            "32/32 [==============================] - ETA: 0s - loss: 0.2342 - accuracy: 0.9016\n",
            "Epoch 64: loss did not improve from 0.09514\n",
            "32/32 [==============================] - 35s 1s/step - loss: 0.2342 - accuracy: 0.9016 - val_loss: 0.3986 - val_accuracy: 0.8750\n",
            "Epoch 65/90\n",
            "32/32 [==============================] - ETA: 0s - loss: 0.1257 - accuracy: 0.9409\n",
            "Epoch 65: loss did not improve from 0.09514\n",
            "32/32 [==============================] - 35s 1s/step - loss: 0.1257 - accuracy: 0.9409 - val_loss: 0.4055 - val_accuracy: 0.8125\n",
            "Epoch 66/90\n",
            "32/32 [==============================] - ETA: 0s - loss: 0.1179 - accuracy: 0.9567\n",
            "Epoch 66: loss did not improve from 0.09514\n",
            "32/32 [==============================] - 35s 1s/step - loss: 0.1179 - accuracy: 0.9567 - val_loss: 0.5567 - val_accuracy: 0.8438\n",
            "Epoch 67/90\n",
            "32/32 [==============================] - ETA: 0s - loss: 0.1201 - accuracy: 0.9567\n",
            "Epoch 67: loss did not improve from 0.09514\n",
            "32/32 [==============================] - 35s 1s/step - loss: 0.1201 - accuracy: 0.9567 - val_loss: 0.5499 - val_accuracy: 0.8438\n",
            "Epoch 68/90\n",
            "32/32 [==============================] - ETA: 0s - loss: 0.0671 - accuracy: 0.9764\n",
            "Epoch 68: loss improved from 0.09514 to 0.06710, saving model to ./drive/MyDrive/VGG16\n",
            "32/32 [==============================] - 37s 1s/step - loss: 0.0671 - accuracy: 0.9764 - val_loss: 0.5083 - val_accuracy: 0.8438\n",
            "Epoch 69/90\n",
            "32/32 [==============================] - ETA: 0s - loss: 0.1443 - accuracy: 0.9528\n",
            "Epoch 69: loss did not improve from 0.06710\n",
            "32/32 [==============================] - 36s 1s/step - loss: 0.1443 - accuracy: 0.9528 - val_loss: 0.3620 - val_accuracy: 0.8438\n",
            "Epoch 70/90\n",
            "32/32 [==============================] - ETA: 0s - loss: 0.1576 - accuracy: 0.9291\n",
            "Epoch 70: loss did not improve from 0.06710\n",
            "32/32 [==============================] - 35s 1s/step - loss: 0.1576 - accuracy: 0.9291 - val_loss: 0.2062 - val_accuracy: 0.8750\n",
            "Epoch 71/90\n",
            "32/32 [==============================] - ETA: 0s - loss: 0.1020 - accuracy: 0.9646\n",
            "Epoch 71: loss did not improve from 0.06710\n",
            "32/32 [==============================] - 35s 1s/step - loss: 0.1020 - accuracy: 0.9646 - val_loss: 0.2855 - val_accuracy: 0.9062\n",
            "Epoch 72/90\n",
            "32/32 [==============================] - ETA: 0s - loss: 0.1504 - accuracy: 0.9488\n",
            "Epoch 72: loss did not improve from 0.06710\n",
            "32/32 [==============================] - 35s 1s/step - loss: 0.1504 - accuracy: 0.9488 - val_loss: 0.9332 - val_accuracy: 0.8125\n",
            "Epoch 73/90\n",
            "32/32 [==============================] - ETA: 0s - loss: 0.2112 - accuracy: 0.9094\n",
            "Epoch 73: loss did not improve from 0.06710\n",
            "32/32 [==============================] - 35s 1s/step - loss: 0.2112 - accuracy: 0.9094 - val_loss: 0.2954 - val_accuracy: 0.8438\n",
            "Epoch 74/90\n",
            "32/32 [==============================] - ETA: 0s - loss: 0.1364 - accuracy: 0.9567\n",
            "Epoch 74: loss did not improve from 0.06710\n",
            "32/32 [==============================] - 35s 1s/step - loss: 0.1364 - accuracy: 0.9567 - val_loss: 0.3362 - val_accuracy: 0.8438\n",
            "Epoch 75/90\n",
            "32/32 [==============================] - ETA: 0s - loss: 0.1404 - accuracy: 0.9370\n",
            "Epoch 75: loss did not improve from 0.06710\n",
            "32/32 [==============================] - 35s 1s/step - loss: 0.1404 - accuracy: 0.9370 - val_loss: 0.1546 - val_accuracy: 0.9375\n",
            "Epoch 76/90\n",
            "32/32 [==============================] - ETA: 0s - loss: 0.1678 - accuracy: 0.9409\n",
            "Epoch 76: loss did not improve from 0.06710\n",
            "32/32 [==============================] - 35s 1s/step - loss: 0.1678 - accuracy: 0.9409 - val_loss: 0.5032 - val_accuracy: 0.8438\n",
            "Epoch 77/90\n",
            "32/32 [==============================] - ETA: 0s - loss: 0.1043 - accuracy: 0.9685\n",
            "Epoch 77: loss did not improve from 0.06710\n",
            "32/32 [==============================] - 35s 1s/step - loss: 0.1043 - accuracy: 0.9685 - val_loss: 0.5813 - val_accuracy: 0.8438\n",
            "Epoch 78/90\n",
            "32/32 [==============================] - ETA: 0s - loss: 0.1190 - accuracy: 0.9528\n",
            "Epoch 78: loss did not improve from 0.06710\n",
            "32/32 [==============================] - 35s 1s/step - loss: 0.1190 - accuracy: 0.9528 - val_loss: 0.5832 - val_accuracy: 0.8438\n",
            "Epoch 79/90\n",
            "32/32 [==============================] - ETA: 0s - loss: 0.1877 - accuracy: 0.9409\n",
            "Epoch 79: loss did not improve from 0.06710\n",
            "32/32 [==============================] - 33s 1s/step - loss: 0.1877 - accuracy: 0.9409 - val_loss: 0.1493 - val_accuracy: 0.9375\n",
            "Epoch 80/90\n",
            "32/32 [==============================] - ETA: 0s - loss: 0.2083 - accuracy: 0.9252\n",
            "Epoch 80: loss did not improve from 0.06710\n",
            "32/32 [==============================] - 35s 1s/step - loss: 0.2083 - accuracy: 0.9252 - val_loss: 0.4255 - val_accuracy: 0.8125\n",
            "Epoch 81/90\n",
            "32/32 [==============================] - ETA: 0s - loss: 0.1300 - accuracy: 0.9488\n",
            "Epoch 81: loss did not improve from 0.06710\n",
            "32/32 [==============================] - 35s 1s/step - loss: 0.1300 - accuracy: 0.9488 - val_loss: 0.1830 - val_accuracy: 0.9062\n",
            "Epoch 82/90\n",
            "32/32 [==============================] - ETA: 0s - loss: 0.1168 - accuracy: 0.9567\n",
            "Epoch 82: loss did not improve from 0.06710\n",
            "32/32 [==============================] - 35s 1s/step - loss: 0.1168 - accuracy: 0.9567 - val_loss: 0.4585 - val_accuracy: 0.8438\n",
            "Epoch 83/90\n",
            "32/32 [==============================] - ETA: 0s - loss: 0.0761 - accuracy: 0.9685\n",
            "Epoch 83: loss did not improve from 0.06710\n",
            "32/32 [==============================] - 33s 1s/step - loss: 0.0761 - accuracy: 0.9685 - val_loss: 0.4291 - val_accuracy: 0.8750\n",
            "Epoch 84/90\n",
            "32/32 [==============================] - ETA: 0s - loss: 0.1601 - accuracy: 0.9409\n",
            "Epoch 84: loss did not improve from 0.06710\n",
            "32/32 [==============================] - 36s 1s/step - loss: 0.1601 - accuracy: 0.9409 - val_loss: 0.6876 - val_accuracy: 0.8438\n",
            "Epoch 85/90\n",
            "32/32 [==============================] - ETA: 0s - loss: 0.1632 - accuracy: 0.9409\n",
            "Epoch 85: loss did not improve from 0.06710\n",
            "32/32 [==============================] - 35s 1s/step - loss: 0.1632 - accuracy: 0.9409 - val_loss: 0.2923 - val_accuracy: 0.9375\n",
            "Epoch 86/90\n",
            "32/32 [==============================] - ETA: 0s - loss: 0.1526 - accuracy: 0.9449\n",
            "Epoch 86: loss did not improve from 0.06710\n",
            "32/32 [==============================] - 35s 1s/step - loss: 0.1526 - accuracy: 0.9449 - val_loss: 0.5110 - val_accuracy: 0.8438\n",
            "Epoch 87/90\n",
            "32/32 [==============================] - ETA: 0s - loss: 0.1060 - accuracy: 0.9606\n",
            "Epoch 87: loss did not improve from 0.06710\n",
            "32/32 [==============================] - 35s 1s/step - loss: 0.1060 - accuracy: 0.9606 - val_loss: 0.3493 - val_accuracy: 0.8438\n",
            "Epoch 88/90\n",
            "32/32 [==============================] - ETA: 0s - loss: 0.1168 - accuracy: 0.9606\n",
            "Epoch 88: loss did not improve from 0.06710\n",
            "32/32 [==============================] - 34s 1s/step - loss: 0.1168 - accuracy: 0.9606 - val_loss: 0.3730 - val_accuracy: 0.8438\n",
            "Epoch 89/90\n",
            "32/32 [==============================] - ETA: 0s - loss: 0.1399 - accuracy: 0.9409\n",
            "Epoch 89: loss did not improve from 0.06710\n",
            "32/32 [==============================] - 37s 1s/step - loss: 0.1399 - accuracy: 0.9409 - val_loss: 0.3043 - val_accuracy: 0.8438\n",
            "Epoch 90/90\n",
            "32/32 [==============================] - ETA: 0s - loss: 0.0805 - accuracy: 0.9685\n",
            "Epoch 90: loss did not improve from 0.06710\n",
            "32/32 [==============================] - 36s 1s/step - loss: 0.0805 - accuracy: 0.9685 - val_loss: 0.1250 - val_accuracy: 0.9375\n"
          ]
        }
      ]
    },
    {
      "cell_type": "code",
      "source": [
        "# Optional: Plot the training process: loss and accuracy\n",
        "import matplotlib.pyplot as plt\n",
        "\n",
        "# Plot training & validation accuracy values\n",
        "plt.plot(history.history['accuracy'])\n",
        "plt.plot(history.history['val_accuracy'])\n",
        "plt.title('Model accuracy')\n",
        "plt.ylabel('Accuracy')\n",
        "plt.xlabel('Epoch')\n",
        "plt.legend(['Train', 'Test'], loc='upper left')\n",
        "plt.show()\n",
        "\n",
        "# Plot training & validation loss values\n",
        "plt.plot(history.history['loss'])\n",
        "plt.plot(history.history['val_loss'])\n",
        "plt.title('Model loss')\n",
        "plt.ylabel('Loss')\n",
        "plt.xlabel('Epoch')\n",
        "plt.legend(['Train', 'Test'], loc='upper left')\n",
        "plt.show()"
      ],
      "metadata": {
        "colab": {
          "base_uri": "https://localhost:8080/",
          "height": 927
        },
        "id": "_p3o0jDgfFmQ",
        "outputId": "5e1f2789-d2c7-420f-afb0-92017a1be8a4"
      },
      "execution_count": null,
      "outputs": [
        {
          "output_type": "display_data",
          "data": {
            "text/plain": [
              "<Figure size 640x480 with 1 Axes>"
            ],
            "image/png": "[encoded data removed]"
          },
          "metadata": {}
        },
        {
          "output_type": "display_data",
          "data": {
            "text/plain": [
              "<Figure size 640x480 with 1 Axes>"
            ],
            "image/png": "[encoded data removed]"
          },
          "metadata": {}
        }
      ]
    },
    {
      "cell_type": "code",
      "source": [
        "import shutil\n",
        "shutil.make_archive('./drive/MyDrive/VGG16', 'zip', './drive/MyDrive/VGG16')"
      ],
      "metadata": {
        "colab": {
          "base_uri": "https://localhost:8080/",
          "height": 36
        },
        "id": "9ZHiJGtih3SS",
        "outputId": "624115a8-67ee-4bc9-b537-62d34f1462aa"
      },
      "execution_count": null,
      "outputs": [
        {
          "output_type": "execute_result",
          "data": {
            "text/plain": [
              "'/content/drive/MyDrive/VGG16.zip'"
            ],
            "application/vnd.google.colaboratory.intrinsic+json": {
              "type": "string"
            }
          },
          "metadata": {},
          "execution_count": 1
        }
      ]
    },
    {
      "cell_type": "code",
      "source": [
        "import zipfile\n",
        "with zipfile.ZipFile('./drive/MyDrive/VGG16.zip', 'r') as zip_ref:\n",
        "    zip_ref.extractall('./drive/MyDrive/VGG16')"
      ],
      "metadata": {
        "id": "D4cefEUVh4bh"
      },
      "execution_count": null,
      "outputs": []
    },
    {
      "cell_type": "code",
      "source": [
        "model = tf.keras.models.load_model('./drive/MyDrive/VGG16')"
      ],
      "metadata": {
        "id": "YxFbUvOAh78I",
        "outputId": "c4439c5e-2672-485e-8a59-c5ed5d496bfa",
        "colab": {
          "base_uri": "https://localhost:8080/",
          "height": 141
        }
      },
      "execution_count": null,
      "outputs": [
        {
          "output_type": "error",
          "ename": "NameError",
          "evalue": "name 'tf' is not defined",
          "traceback": [
            "\u001b[0;31m---------------------------------------------------------------------------\u001b[0m",
            "\u001b[0;31mNameError\u001b[0m                                 Traceback (most recent call last)",
            "\u001b[0;32m<ipython-input-3-2021796ce9ad>\u001b[0m in \u001b[0;36m<cell line: 1>\u001b[0;34m()\u001b[0m\n\u001b[0;32m----> 1\u001b[0;31m \u001b[0mmodel\u001b[0m \u001b[0;34m=\u001b[0m \u001b[0mtf\u001b[0m\u001b[0;34m.\u001b[0m\u001b[0mkeras\u001b[0m\u001b[0;34m.\u001b[0m\u001b[0mmodels\u001b[0m\u001b[0;34m.\u001b[0m\u001b[0mload_model\u001b[0m\u001b[0;34m(\u001b[0m\u001b[0;34m'./drive/MyDrive/VGG16'\u001b[0m\u001b[0;34m)\u001b[0m\u001b[0;34m\u001b[0m\u001b[0;34m\u001b[0m\u001b[0m\n\u001b[0m",
            "\u001b[0;31mNameError\u001b[0m: name 'tf' is not defined"
          ]
        }
      ]
    },
    {
      "cell_type": "code",
      "source": [
        "import numpy as np\n",
        "from tensorflow.keras.models import load_model\n",
        "from sklearn.metrics import confusion_matrix\n",
        "from tensorflow.keras.preprocessing.image import ImageDataGenerator\n",
        "\n",
        "# If your model outputs softmax probabilities, you might need to convert these to hard labels\n",
        "predictions = model.predict(test_images)\n",
        "y_pred = np.argmax(predictions, axis=1)\n",
        "\n",
        "# Generate the confusion matrix\n",
        "cm = confusion_matrix(test_labels, y_pred)\n",
        "\n",
        "print(cm)\n"
      ],
      "metadata": {
        "colab": {
          "base_uri": "https://localhost:8080/"
        },
        "id": "DWm8Fb2kh9tV",
        "outputId": "57e76ce6-b468-436e-fd0f-062a1e9384e8"
      },
      "execution_count": null,
      "outputs": [
        {
          "output_type": "stream",
          "name": "stdout",
          "text": [
            "1/1 [==============================] - 4s 4s/step\n",
            "[[15  0  0]\n",
            " [ 2  7  1]\n",
            " [ 0  0  7]]\n"
          ]
        }
      ]
    },
    {
      "cell_type": "code",
      "source": [
        "import keras\n",
        "scce = keras.losses.SparseCategoricalCrossentropy()\n",
        "scce(test_labels, predictions)"
      ],
      "metadata": {
        "colab": {
          "base_uri": "https://localhost:8080/"
        },
        "id": "F-I78CY_KR_d",
        "outputId": "7e555a51-6e7d-4349-f904-0ec6529061f8"
      },
      "execution_count": null,
      "outputs": [
        {
          "output_type": "execute_result",
          "data": {
            "text/plain": [
              "<tf.Tensor: shape=(), dtype=float32, numpy=0.30461484>"
            ]
          },
          "metadata": {},
          "execution_count": 19
        }
      ]
    },
    {
      "cell_type": "code",
      "source": [
        "from sklearn.metrics import classification_report\n",
        "print(classification_report(test_labels, y_pred))"
      ],
      "metadata": {
        "colab": {
          "base_uri": "https://localhost:8080/"
        },
        "id": "isNGTvtkMPpI",
        "outputId": "2a2f154a-c139-43a4-ffad-30c287378e4d"
      },
      "execution_count": null,
      "outputs": [
        {
          "output_type": "stream",
          "name": "stdout",
          "text": [
            "              precision    recall  f1-score   support\n",
            "\n",
            "           0       0.88      1.00      0.94        15\n",
            "           1       1.00      0.70      0.82        10\n",
            "           2       0.88      1.00      0.93         7\n",
            "\n",
            "    accuracy                           0.91        32\n",
            "   macro avg       0.92      0.90      0.90        32\n",
            "weighted avg       0.92      0.91      0.90        32\n",
            "\n"
          ]
        }
      ]
    },
    {
      "cell_type": "code",
      "source": [
        "np.sum([cm[i][i] for i in range(len(cm))]) / np.array(cm).sum()"
      ],
      "metadata": {
        "id": "MqWk4EzWYLKg",
        "colab": {
          "base_uri": "https://localhost:8080/"
        },
        "outputId": "4d5c4f05-31af-4f6c-eeb9-0b1450955dc6"
      },
      "execution_count": null,
      "outputs": [
        {
          "output_type": "execute_result",
          "data": {
            "text/plain": [
              "0.90625"
            ]
          },
          "metadata": {},
          "execution_count": 21
        }
      ]
    },
    {
      "cell_type": "code",
      "source": [],
      "metadata": {
        "id": "1qJNL-qXJvnF"
      },
      "execution_count": null,
      "outputs": []
    }
  ]
}